{
 "cells": [
  {
   "cell_type": "markdown",
   "metadata": {},
   "source": [
    "packageable workflow steps:\n",
    "\n",
    "pyhull\n",
    "\n",
    "case foam file -> visualise\n",
    "case foam file -> resample\n",
    "case foam file -> conformal map \n",
    "\n",
    "hullpredict\n",
    "\n",
    "load case foam file \n",
    "\n",
    "case foam directory -> POD predict\n"
   ]
  },
  {
   "cell_type": "code",
   "execution_count": null,
   "metadata": {},
   "outputs": [],
   "source": [
    "# =============================================================\n",
    "#  Conformal‑POD pipeline for Hull + Scalar fields  (with visual grids)\n",
    "# -------------------------------------------------\n",
    "#  * Loads multiple .foam hulls, flattens them, resamples pressure onto a\n",
    "#    template UV mesh.\n",
    "#  * Builds snapshot matrix, does POD.\n",
    "#  * Cubic‑IDW interpolates POD coefficients for a new design vector.\n",
    "#  * Visual grids:\n",
    "#      1) Original snapshots  → 3‑D hull + UV side‑by‑side grid\n",
    "#      2) POD modes           → UV grid (first N_modes)\n",
    "# =============================================================\n",
    "\n",
    "import os, sys, math\n",
    "import numpy as np\n",
    "import pyvista as pv\n",
    "import igl, vtk\n",
    "from scipy.linalg import svd\n",
    "from scipy.spatial import cKDTree\n",
    "import igl\n",
    "import numpy as np\n",
    "import networkx as nx\n",
    "\n",
    "# -------------------------------------------------------------\n",
    "# USER SETTINGS\n",
    "# -------------------------------------------------------------\n",
    "BASE_DIR   = r\"Z:\\Zack\\Data\\Incoming\\Cat_parametric_study\\Low_Fidelity\"\n",
    "RUN_RANGE  = range(1, 21)             # RUN001 … RUN020\n",
    "CLIP_TOP   = False                  # open the hull\n",
    "UV_grid= False                    # use UV mesh for POD (instead of UV mesh of first snapshot as template)\n",
    "clip_z_off = 1                     # metres to slice off\n",
    "USE_SQUARE = False                    # circle ➝ False,  square ➝ True\n",
    "SNAPSHOTS_TO_SHOW = 20                # how many snapshots in the visual grid\n",
    "MODES_TO_SHOW     = 20                # first POD modes to visualise\n",
    "predict_xyz = False               # predict x,y,z coordinates of the hull (True) or only the pressure and stress (False)"
   ]
  },
  {
   "cell_type": "code",
   "execution_count": 12,
   "metadata": {},
   "outputs": [],
   "source": [
    "# def extract_hull_mesh_zxc(foam):\n",
    "#     # Load the OpenFOAM case file\n",
    "#     reader = vtk.vtkOpenFOAMReader()\n",
    "#     # reader.SetFileName(\"Z:\\Zack\\Data\\Incoming\\Cat_parametric_study\\High_Fidelity\\RUN001\\case.foam\")\n",
    "#     # reader.SetFileName('C:/Users/zack/Desktop/RUN001/case.foam')\n",
    "#     reader.SetFileName(foam)\n",
    "#     # reader.SetFileName(\"Z:\\Zack\\Data\\Incoming\\Cat_parametric_study\\Low_Fidelity\\RUN001\\case.foam\")7\n",
    "#     reader.DecomposePolyhedraOn()\n",
    "#     reader.Update()\n",
    "    \n",
    "#     print (\"Reader output:\")\n",
    "\n",
    "#     # Select only the 'internalMesh' region\n",
    "#     reader.DisableAllPatchArrays()  # Disable all other patches\n",
    "#     reader.SetPatchArrayStatus(\"internalMesh\",1)  # Enable internalMesh\n",
    "#     reader.SetPatchArrayStatus(\"patch/hull\", 1)  # Enable hull mesh (low curvature elements)\n",
    "#     reader.SetPatchArrayStatus(\"patch/hull_hc\",1)  # Enable hull mesh (high curvature elements)\n",
    "#     reader.Update()\n",
    "    \n",
    "#     print (\"Reader output:\")\n",
    "\n",
    "#     # Step 2: Get the multi-block dataset\n",
    "#     output = reader.GetOutput()\n",
    "\n",
    "#     ############################\n",
    "#     # OPTIONAL: Clip the top\n",
    "#     ############################\n",
    "#     clip_z_offset = 0.95  # how much to lower the clipping plane\n",
    "\n",
    "#     # Load hull surface mesh\n",
    "#     hull_blocks = output.GetBlock(1)\n",
    "#     hull_meshes = []\n",
    "\n",
    "#     for i in range(hull_blocks.GetNumberOfBlocks()):\n",
    "#         sub_block = hull_blocks.GetBlock(i)\n",
    "#         if isinstance(sub_block, vtk.vtkUnstructuredGrid):\n",
    "#             poly = pv.wrap(sub_block).extract_surface().triangulate()\n",
    "#             hull_meshes.append(poly)\n",
    "#         elif isinstance(sub_block, vtk.vtkPolyData):\n",
    "#             poly = pv.wrap(sub_block).triangulate()\n",
    "#             # Convert cell-based pressure to point-based if needed\n",
    "#             if \"p\" in poly.cell_data:\n",
    "#                 poly = poly.cell_data_to_point_data()\n",
    "#             hull_meshes.append(poly)\n",
    "            \n",
    "\n",
    "#     # Combine & surface\n",
    "#     hull_mesh = pv.MultiBlock(hull_meshes).combine().extract_surface().triangulate()\n",
    "    \n",
    "#     print (\"Combined hull mesh:\")\n",
    "\n",
    "#     # Optionally clip the top\n",
    "#     if CLIP_TOP:\n",
    "#         z_max = hull_mesh.points[:, 2].max()\n",
    "#         clip_z_max = z_max - clip_z_offset  # user offset\n",
    "#         clip_plane = vtk.vtkPlane()\n",
    "#         clip_plane.SetOrigin(0, 0, clip_z_max)\n",
    "#         clip_plane.SetNormal(0, 0, -1)\n",
    "#         clipper = vtk.vtkClipPolyData()\n",
    "#         clipper.SetInputData(hull_mesh)\n",
    "#         clipper.SetClipFunction(clip_plane)\n",
    "#         clipper.Update()\n",
    "#         hull_mesh = pv.wrap(clipper.GetOutput())\n",
    "\n",
    "#     # Compute cell areas & threshold small triangles\n",
    "#     hull_mesh[\"Area\"] = hull_mesh.compute_cell_sizes()[\"Area\"]\n",
    "#     hull_mesh = hull_mesh.threshold(value=1e-7, scalars=\"Area\")\n",
    "#     hull_mesh = hull_mesh.clean()\n",
    "    \n",
    "#     print (\"Cleaned hull mesh:\")\n",
    "\n",
    "#     # Check for non-manifold edges\n",
    "#     feature_edges = vtk.vtkFeatureEdges()\n",
    "#     feature_edges.SetInputData(hull_mesh)\n",
    "#     feature_edges.BoundaryEdgesOn()\n",
    "#     feature_edges.NonManifoldEdgesOn()\n",
    "#     feature_edges.ManifoldEdgesOff()\n",
    "#     feature_edges.FeatureEdgesOff()\n",
    "#     feature_edges.Update()\n",
    "#     nonmanifold_edges = feature_edges.GetOutput()\n",
    "#     print(\"Non-manifold edge count:\", nonmanifold_edges.GetNumberOfCells())\n",
    "    \n",
    "#     return hull_mesh"
   ]
  },
  {
   "cell_type": "code",
   "execution_count": 29,
   "metadata": {},
   "outputs": [],
   "source": [
    "import trimesh\n",
    "\n",
    "# -------------------------------------------------------------\n",
    "# Helper functions\n",
    "# -------------------------------------------------------------\n",
    "\n",
    "\n",
    "# def remove_hull_deck(hull_surface):\n",
    "#     \"\"\"\n",
    "#     Cleans the hull by removing deck faces based on their orientation.\n",
    "\n",
    "#     Parameters:\n",
    "#     hull_surface (pyvista.PolyData): The input hull surface mesh.\n",
    "\n",
    "#     Returns:\n",
    "#     pyvista.PolyData: The cleaned hull with deck faces removed.\n",
    "#     \"\"\"\n",
    "#     # Extract surface\n",
    "#     hull_surface = hull_surface.extract_surface()\n",
    "\n",
    "#     # Compute per-face normals\n",
    "#     hull_surface = hull_surface.compute_normals(cell_normals=True, point_normals=False, auto_orient_normals=True, consistent_normals=True)\n",
    "\n",
    "#     # Access the computed cell normals\n",
    "#     cell_normals = hull_surface.cell_data[\"Normals\"]  # shape: (N_faces, 3)\n",
    "    \n",
    "#     normals = hull_surface.cell_data[\"Normals\"]\n",
    "#     cell_centers = hull_surface.cell_centers().points\n",
    "#     signs = np.einsum(\"ij,ij->i\", normals, cell_centers - hull_surface.center)\n",
    "\n",
    "#     if np.any(signs < 0):\n",
    "#         print(\"⚠️ Some normals point inward!\")\n",
    "#     else:\n",
    "#         print(\"✅ All normals point outward.\")\n",
    "\n",
    "\n",
    "#     # Dot product with upward vector\n",
    "#     up_vector = np.array([0, 0, 1])\n",
    "#     dot_products = np.dot(cell_normals, up_vector)\n",
    "\n",
    "#     # Set threshold (e.g., dot product > 0.95 means almost perfectly upwards)\n",
    "#     threshold = 0.55\n",
    "#     is_deck_face = dot_products > threshold\n",
    "\n",
    "#     # Mask out (remove) deck faces\n",
    "#     faces_to_keep = ~is_deck_face\n",
    "\n",
    "#     # Extract faces to keep\n",
    "#     ids = np.nonzero(faces_to_keep)[0]\n",
    "#     cleaned_hull = hull_surface.extract_cells(ids).clean().extract_surface()\n",
    "    \n",
    "#     faces = cleaned_hull.faces.reshape(-1, 4)[:, 1:]\n",
    "#     vertices = cleaned_hull.points\n",
    "#     original_point_scalars = dict(cleaned_hull.point_data)\n",
    "#     original_cell_scalars = dict(cleaned_hull.cell_data)\n",
    "\n",
    "#     # Step 4: Convert to trimesh\n",
    "#     trimesh_hull = trimesh.Trimesh(vertices=vertices, faces=faces, process=False)\n",
    "\n",
    "#     # Step 5: Count boundary edges per face\n",
    "#     edge_face_map = {}\n",
    "#     for face_idx, face in enumerate(trimesh_hull.faces):\n",
    "#         edges = [tuple(sorted((face[i], face[(i+1)%3]))) for i in range(3)]\n",
    "#         for edge in edges:\n",
    "#             edge_face_map.setdefault(edge, []).append(face_idx)\n",
    "\n",
    "#     face_boundary_count = np.zeros(len(trimesh_hull.faces), dtype=int)\n",
    "#     for face_list in edge_face_map.values():\n",
    "#         if len(face_list) == 1:\n",
    "#             face_boundary_count[face_list[0]] += 1\n",
    "\n",
    "#     # Step 6: Identify and remove weakly connected faces\n",
    "#     bad_faces = np.where(face_boundary_count >= 2)[0]\n",
    "#     face_mask = np.ones(len(trimesh_hull.faces), dtype=bool)\n",
    "#     face_mask[bad_faces] = False\n",
    "#     filtered_faces = trimesh_hull.faces[face_mask]\n",
    "\n",
    "#     # Step 7: Track vertex usage and remap indices\n",
    "#     used_vertices_idx = np.unique(filtered_faces)\n",
    "#     new_vertex_map = {old: new for new, old in enumerate(used_vertices_idx)}\n",
    "#     remapped_faces = np.vectorize(new_vertex_map.get)(filtered_faces)\n",
    "#     new_vertices = vertices[used_vertices_idx]\n",
    "\n",
    "#     # Step 8: Rebuild mesh with preserved scalars\n",
    "#     face_cells = np.hstack([np.full((remapped_faces.shape[0], 1), 3), remapped_faces])\n",
    "#     final_mesh = pv.PolyData(new_vertices, face_cells)\n",
    "\n",
    "#     # Map point scalars\n",
    "#     for name, array in original_point_scalars.items():\n",
    "#         if len(array) == len(vertices):\n",
    "#             final_mesh.point_data[name] = array[used_vertices_idx]\n",
    "\n",
    "#     # Map cell scalars\n",
    "#     for name, array in original_cell_scalars.items():\n",
    "#         if len(array) == len(face_mask):\n",
    "#             final_mesh.cell_data[name] = array[face_mask]\n",
    "\n",
    "#     return final_mesh\n",
    "\n",
    "import numpy as np\n",
    "import pyvista as pv\n",
    "import trimesh\n",
    "\n",
    "def remove_hull_deck(hull_surface):\n",
    "    \"\"\"\n",
    "    Cleans the hull by removing deck faces based on their orientation.\n",
    "\n",
    "    Parameters:\n",
    "    hull_surface (pyvista.PolyData): The input hull surface mesh (tri or quad).\n",
    "\n",
    "    Returns:\n",
    "    pyvista.PolyData: The cleaned hull with deck faces removed.\n",
    "    \"\"\"\n",
    "    import numpy as np\n",
    "    import pyvista as pv\n",
    "\n",
    "    # Extract surface\n",
    "    hull_surface = hull_surface.extract_surface()\n",
    "\n",
    "    # Compute per-face normals\n",
    "    hull_surface = hull_surface.compute_normals(cell_normals=True, point_normals=False,\n",
    "                                                auto_orient_normals=True, consistent_normals=True)\n",
    "\n",
    "    # Check for inward normals\n",
    "    normals = hull_surface.cell_data[\"Normals\"]\n",
    "    cell_centers = hull_surface.cell_centers().points\n",
    "    signs = np.einsum(\"ij,ij->i\", normals, cell_centers - hull_surface.center)\n",
    "    if np.any(signs < 0):\n",
    "        print(\"⚠️ Some normals point inward!\")\n",
    "    else:\n",
    "        print(\"✅ All normals point outward.\")\n",
    "\n",
    "    # Identify top-facing faces based on upward normal\n",
    "    up_vector = np.array([0, 0, 1])\n",
    "    dot_products = np.dot(normals, up_vector)\n",
    "    threshold = 0.75\n",
    "    is_deck_face = dot_products > threshold\n",
    "\n",
    "    # Mask out (remove) deck faces\n",
    "    faces_to_keep = ~is_deck_face\n",
    "    ids = np.nonzero(faces_to_keep)[0]\n",
    "\n",
    "    # Extract faces to keep\n",
    "    cleaned_hull = hull_surface.extract_cells(ids).clean().extract_surface()\n",
    "    print (\"Cleaned hull mesh:\")\n",
    "    return cleaned_hull\n",
    "\n",
    "\n",
    "# import numpy as np\n",
    "# import pyvista as pv\n",
    "# import trimesh\n",
    "\n",
    "# def remove_hull_deck(hull_surface, tri_only=True):\n",
    "#     \"\"\"\n",
    "#     Removes upward-facing deck faces and weakly connected boundary faces.\n",
    "#     Optionally restricts to triangle-only processing.\n",
    "\n",
    "#     Parameters:\n",
    "#     - hull_surface (pyvista.PolyData): The input surface mesh.\n",
    "#     - tri_only (bool): If True, convert to triangle-only mesh. If False, preserve quads.\n",
    "\n",
    "#     Returns:\n",
    "#     - pv.PolyData: Cleaned mesh.\n",
    "#     \"\"\"\n",
    "#     # Step 1: Clean and extract surface\n",
    "#     hull_surface = hull_surface.extract_surface()\n",
    "#     if tri_only:\n",
    "#         hull_surface = hull_surface.triangulate()\n",
    "\n",
    "#     hull_surface = hull_surface.compute_normals(\n",
    "#         cell_normals=True, point_normals=False,\n",
    "#         auto_orient_normals=True, consistent_normals=True\n",
    "#     )\n",
    "\n",
    "#     # Step 2: Inward normals check\n",
    "#     normals = hull_surface.cell_data[\"Normals\"]\n",
    "#     cell_centers = hull_surface.cell_centers().points\n",
    "#     signs = np.einsum(\"ij,ij->i\", normals, cell_centers - hull_surface.center)\n",
    "\n",
    "#     if np.any(signs < 0):\n",
    "#         print(\"⚠️ Some normals point inward!\")\n",
    "#     else:\n",
    "#         print(\"✅ All normals point outward.\")\n",
    "\n",
    "#     # Step 3: Remove deck faces based on upward normal\n",
    "#     up_vector = np.array([0, 0, 1])\n",
    "#     dot_products = np.dot(normals, up_vector)\n",
    "#     is_deck_face = dot_products > 0.55\n",
    "#     faces_to_keep = ~is_deck_face\n",
    "#     ids = np.nonzero(faces_to_keep)[0]\n",
    "\n",
    "#     cleaned_hull = hull_surface.extract_cells(ids).clean().extract_surface()\n",
    "\n",
    "#     # Step 4: Extract face connectivity and scalars\n",
    "#     face_arr = cleaned_hull.faces\n",
    "#     n_faces = cleaned_hull.n_faces\n",
    "#     n_points = cleaned_hull.n_points\n",
    "#     vertices = cleaned_hull.points\n",
    "#     face_sizes = face_arr[::face_arr[0] + 1]  # size = 3 or 4, etc.\n",
    "\n",
    "#     if tri_only:\n",
    "#         faces = face_arr.reshape(-1, 4)[:, 1:]\n",
    "#     else:\n",
    "#         # General polygon support — extract all triangle faces only for edge filtering\n",
    "#         faces = []\n",
    "#         offset = 0\n",
    "#         while offset < len(face_arr):\n",
    "#             n = face_arr[offset]\n",
    "#             face = face_arr[offset + 1: offset + 1 + n]\n",
    "#             if n == 3:\n",
    "#                 faces.append(face)\n",
    "#             offset += 1 + n\n",
    "#         faces = np.array(faces)\n",
    "\n",
    "#     original_point_scalars = dict(cleaned_hull.point_data)\n",
    "#     original_cell_scalars = dict(cleaned_hull.cell_data)\n",
    "\n",
    "#     # Step 5: Trimesh to detect weakly connected faces\n",
    "#     trimesh_hull = trimesh.Trimesh(vertices=vertices, faces=faces, process=False)\n",
    "#     edge_face_map = {}\n",
    "#     for face_idx, face in enumerate(trimesh_hull.faces):\n",
    "#         edges = [tuple(sorted((face[i], face[(i+1)%3]))) for i in range(3)]\n",
    "#         for edge in edges:\n",
    "#             edge_face_map.setdefault(edge, []).append(face_idx)\n",
    "\n",
    "#     face_boundary_count = np.zeros(len(trimesh_hull.faces), dtype=int)\n",
    "#     for face_list in edge_face_map.values():\n",
    "#         if len(face_list) == 1:\n",
    "#             face_boundary_count[face_list[0]] += 1\n",
    "\n",
    "#     bad_faces = np.where(face_boundary_count >= 2)[0]\n",
    "#     face_mask = np.ones(len(trimesh_hull.faces), dtype=bool)\n",
    "#     face_mask[bad_faces] = False\n",
    "#     filtered_faces = trimesh_hull.faces[face_mask]\n",
    "\n",
    "#     # Step 6: Remap indices and reconstruct mesh\n",
    "#     if filtered_faces.size == 0:\n",
    "#         print(\"⚠️ No faces left after boundary filtering — returning empty mesh.\")\n",
    "#         return pv.PolyData()\n",
    "\n",
    "#     used_vertices_idx = np.unique(filtered_faces)\n",
    "#     new_vertex_map = {old: new for new, old in enumerate(used_vertices_idx)}\n",
    "#     remapped_faces = np.vectorize(new_vertex_map.get, otypes=[int])(filtered_faces)\n",
    "\n",
    "#     new_vertices = vertices[used_vertices_idx]\n",
    "\n",
    "#     # Convert back to PolyData\n",
    "#     face_cells = np.hstack([np.full((remapped_faces.shape[0], 1), 3), remapped_faces])\n",
    "#     final_mesh = pv.PolyData(new_vertices, face_cells)\n",
    "\n",
    "#     # Step 7: Restore point scalars\n",
    "#     for name, array in original_point_scalars.items():\n",
    "#         if len(array) == len(vertices):\n",
    "#             final_mesh.point_data[name] = array[used_vertices_idx]\n",
    "\n",
    "#     # Step 8: Restore cell scalars (only valid if tri_only)\n",
    "#     if tri_only:\n",
    "#         for name, array in original_cell_scalars.items():\n",
    "#             if len(array) == len(face_mask):\n",
    "#                 final_mesh.cell_data[name] = array[face_mask]\n",
    "\n",
    "#     return final_mesh\n",
    "\n",
    "\n",
    "def extract_hull_mesh(foam_path: str) -> pv.PolyData:\n",
    "    rdr = vtk.vtkOpenFOAMReader()\n",
    "    rdr.SetFileName(foam_path)\n",
    "    rdr.DecomposePolyhedraOn()\n",
    "\n",
    "    rdr.DisableAllPatchArrays()\n",
    "    rdr.SetPatchArrayStatus(\"internalMesh\", 1)\n",
    "    rdr.SetPatchArrayStatus(\"patch/hull\", 1)\n",
    "    rdr.SetPatchArrayStatus(\"patch/hull_hc\", 1)\n",
    "    rdr.Update()\n",
    "\n",
    "    mblock = rdr.GetOutput()\n",
    "    hull_blocks = mblock.GetBlock(1)\n",
    "    pieces = []\n",
    "    for i in range(hull_blocks.GetNumberOfBlocks()):\n",
    "        sub = hull_blocks.GetBlock(i)\n",
    "        # poly = pv.wrap(sub).extract_surface().triangulate()\n",
    "        poly = pv.wrap(sub).extract_surface()\n",
    "        if \"p\" in poly.cell_data:\n",
    "            poly = poly.cell_data_to_point_data()\n",
    "        pieces.append(poly)\n",
    "\n",
    "    hull = pv.MultiBlock(pieces).combine().extract_surface().clean()\n",
    "    # hull = hull.triangulate().decimate_boundary(0.01)\n",
    "    # hull_cleaned = remove_hull_deck(pv.MultiBlock(pieces).combine().extract_surface()).triangulate() # attempt at triangulating after deck is removed\n",
    "    # hull = hull_cleaned.copy()\n",
    "    \n",
    "    # Optionally clip the top\n",
    "    if CLIP_TOP:\n",
    "        z_max = hull.points[:, 2].max()\n",
    "        clip_z_max = z_max - clip_z_off  # user offset\n",
    "        clip_plane = vtk.vtkPlane()\n",
    "        clip_plane.SetOrigin(0, 0, clip_z_max)\n",
    "        clip_plane.SetNormal(0, 0, -1)\n",
    "        clipper = vtk.vtkClipPolyData()\n",
    "        clipper.SetInputData(hull)\n",
    "        clipper.SetClipFunction(clip_plane)\n",
    "        clipper.Update()\n",
    "        hull = pv.wrap(clipper.GetOutput())\n",
    "\n",
    "    hull[\"Area\"] = hull.compute_cell_sizes()[\"Area\"]\n",
    "    # hull = hull.threshold(value=1e-8, scalars=\"Area\").clean()\n",
    "    hull = hull.threshold(value=1e-7, scalars=\"Area\").clean()\n",
    "    \n",
    "    # Check for non-manifold edges\n",
    "    feature_edges = vtk.vtkFeatureEdges()\n",
    "    feature_edges.SetInputData(hull)\n",
    "    feature_edges.BoundaryEdgesOn()\n",
    "    feature_edges.NonManifoldEdgesOn()\n",
    "    feature_edges.ManifoldEdgesOff()\n",
    "    feature_edges.FeatureEdgesOff()\n",
    "    feature_edges.Update()\n",
    "    nonmanifold_edges = feature_edges.GetOutput()\n",
    "    print(\"Non-manifold edge count:\", nonmanifold_edges.GetNumberOfCells())\n",
    "\n",
    "    return hull\n",
    "\n",
    "def map_vertices_to_square(V, b):\n",
    "    B = V[b]\n",
    "    seg = np.linalg.norm(B - np.roll(B, -1, axis=0), axis=1)\n",
    "    cum = np.insert(np.cumsum(seg), 0, 0.0)[:-1]\n",
    "    cum /= cum[-1] + seg[-1]\n",
    "    t = 4*cum\n",
    "    uv = np.zeros((len(b),2))\n",
    "    for i,s in enumerate(t):\n",
    "        if s<1: uv[i]=[s,0]\n",
    "        elif s<2: uv[i]=[1,s-1]\n",
    "        elif s<3: uv[i]=[3-s,1]\n",
    "        else: uv[i]=[0,4-s]\n",
    "    return uv\n",
    "\n",
    "\n",
    "# def harmonic_uv(V,F,to_square=False):\n",
    "    \n",
    "#     b = igl.boundary_loop(F)\n",
    "#     if to_square:\n",
    "#         bnd_uv = map_vertices_to_square(V,b)\n",
    "#     else:\n",
    "#         bnd_uv = igl.map_vertices_to_circle(V,b)\n",
    "#     return igl.harmonic(V,F,b,bnd_uv.astype(V.dtype),1)\n",
    "\n",
    "\n",
    "def harmonic_uv(V, F, boundary_indices=None, to_square=False):\n",
    "    \"\"\"\n",
    "    Computes a harmonic UV map using a consistent boundary loop.\n",
    "\n",
    "    Parameters:\n",
    "    - V: (n_pts, 3) vertex coordinates\n",
    "    - F: (n_faces, 3) triangle indices\n",
    "    - to_square: whether to map the boundary to a square (default False → circle)\n",
    "    - boundary_indices: optional (n_bnd,) array of boundary vertex indices (default uses igl.boundary_loop)\n",
    "\n",
    "    Returns:\n",
    "    - UV: (n_pts, 2) array of UV coordinates\n",
    "    \"\"\"\n",
    "    if boundary_indices is None:\n",
    "        boundary_indices = igl.boundary_loop(F)\n",
    "\n",
    "    if to_square:\n",
    "        bnd_uv = map_vertices_to_square(V, boundary_indices)\n",
    "    else:\n",
    "        bnd_uv = igl.map_vertices_to_circle(V, boundary_indices)\n",
    "\n",
    "    UV = igl.harmonic(V, F, boundary_indices, bnd_uv.astype(V.dtype), 1)\n",
    "    return UV\n",
    "\n",
    "\n",
    "\n",
    "def get_consistent_boundary_loop(V: np.ndarray, F: np.ndarray):\n",
    "    \"\"\"\n",
    "    Extract a consistently ordered boundary loop from a surface mesh.\n",
    "    \n",
    "    Parameters\n",
    "    ----------\n",
    "    V : (n_vertices, 3) float array\n",
    "        Vertex coordinates.\n",
    "    F : (n_faces, 3) int array\n",
    "        Triangle face indices.\n",
    "\n",
    "    Returns\n",
    "    -------\n",
    "    loop_indices : List[int]\n",
    "        Ordered indices of the boundary loop.\n",
    "    \"\"\"\n",
    "    # Extract boundary edges\n",
    "    boundary_edges = igl.boundary_facets(F)\n",
    "\n",
    "    # Build connectivity graph\n",
    "    G = nx.Graph()\n",
    "    G.add_edges_from(map(tuple, boundary_edges))\n",
    "\n",
    "    # Find all connected boundary loops\n",
    "    loops = list(nx.connected_components(G))\n",
    "    loops_sorted = sorted(loops, key=len, reverse=True)\n",
    "\n",
    "    # Take the largest loop\n",
    "    if not loops_sorted:\n",
    "        raise RuntimeError(\"No boundary loop found.\")\n",
    "    \n",
    "    largest_loop = loops_sorted[0]\n",
    "    subgraph = G.subgraph(largest_loop)\n",
    "\n",
    "    # Traverse in order using depth-first search\n",
    "    path = list(nx.dfs_edges(subgraph))\n",
    "    if not path:\n",
    "        raise RuntimeError(\"Could not order boundary loop.\")\n",
    "\n",
    "    ordered_loop = [path[0][0]] + [v for _, v in path]\n",
    "    return np.array(ordered_loop)\n",
    "\n",
    "def reorder_loop_start(V, loop_indices):\n",
    "    \"\"\"\n",
    "    Reorder a loop so it starts at the vertex with the smallest x-coordinate.\n",
    "\n",
    "    Parameters\n",
    "    ----------\n",
    "    V : (n_vertices, 3) ndarray\n",
    "        Vertex coordinates.\n",
    "    loop_indices : list or array\n",
    "        Ordered boundary loop indices.\n",
    "\n",
    "    Returns\n",
    "    -------\n",
    "    reordered_loop : list of int\n",
    "        Loop starting from the leftmost point.\n",
    "    \"\"\"\n",
    "    loop_pts = V[loop_indices]\n",
    "    start_idx = np.argmin(loop_pts[:, 0])  # Smallest x-coordinate\n",
    "    return np.roll(loop_indices, -start_idx)\n"
   ]
  },
  {
   "cell_type": "code",
   "execution_count": 14,
   "metadata": {},
   "outputs": [],
   "source": [
    "# # -------------------------------------------------------------\n",
    "# # 5)  VISUALISE FIRST POD MODES IN UV SPACE (per scalar field)\n",
    "# # -------------------------------------------------------------\n",
    "# MODES_TO_SHOW = 20  # Number of POD modes to visualize\n",
    "# npts = len(UV_query) if UV_grid else len(UV0)\n",
    "\n",
    "# if predict_xyz:\n",
    "#     scalar_names = ['Cp', 'tauw_0', 'tauw_1', 'tauw_2', 'X', 'Y', 'Z']\n",
    "# else: \n",
    "#     scalar_names = ['Cp', 'tauw_0', 'tauw_1', 'tauw_2']\n",
    "    \n",
    "# num_scalars = len(scalar_names)\n",
    "\n",
    "# assert U.shape[0] == npts * num_scalars, \"POD modes size mismatch with fields!\"\n",
    "\n",
    "# # Plot\n",
    "# mode_plot = pv.Plotter(shape=(MODES_TO_SHOW, num_scalars), window_size=(350*num_scalars, 250*MODES_TO_SHOW))\n",
    "\n",
    "# for mode_idx in range(MODES_TO_SHOW):\n",
    "#     full_mode_vec = U[:, mode_idx]  # Full flattened mode vector\n",
    "#     mode_fields = np.split(full_mode_vec, num_scalars)  # One array per scalar\n",
    "\n",
    "#     for field_idx, field_vals in enumerate(mode_fields):\n",
    "#         if UV_grid:\n",
    "#             mesh_uv = pv.StructuredGrid(UU, VV, np.zeros_like(UU))\n",
    "#         else:\n",
    "#             uv_pts = np.column_stack((UV0, np.zeros(len(UV0))))\n",
    "#             mesh_uv = pv.PolyData(uv_pts, faces_pv.copy())\n",
    "\n",
    "#         mesh_uv.point_data[\"mode_field\"] = field_vals\n",
    "\n",
    "#         # Setup subplot\n",
    "#         mode_plot.subplot(mode_idx, field_idx)\n",
    "#         mode_plot.add_mesh(mesh_uv, scalars=\"mode_field\", cmap=\"coolwarm\", show_edges=False)\n",
    "\n",
    "#         # Text and camera\n",
    "#         mode_plot.add_text(f\"Mode {mode_idx+1} - {scalar_names[field_idx]}\", font_size=8)\n",
    "#         mode_plot.view_xy()\n",
    "\n",
    "# mode_plot.show()\n",
    "\n"
   ]
  },
  {
   "cell_type": "code",
   "execution_count": 23,
   "metadata": {},
   "outputs": [],
   "source": [
    "import pyvista as pv\n",
    "import numpy as np\n",
    "\n",
    "def plot_ordered_boundary(V, loop_indices):\n",
    "    \"\"\"\n",
    "    Visualize an ordered boundary loop on a 3D mesh.\n",
    "\n",
    "    Parameters\n",
    "    ----------\n",
    "    V : (n_vertices, 3) ndarray\n",
    "        Vertex coordinates.\n",
    "    loop_indices : list or ndarray of int\n",
    "        Ordered boundary vertex indices.\n",
    "    \"\"\"\n",
    "    loop_pts = V[loop_indices]\n",
    "\n",
    "    # Create PolyData for boundary points\n",
    "    point_cloud = pv.PolyData(loop_pts)\n",
    "    point_cloud['index'] = np.arange(len(loop_pts))  # Scalar for coloring\n",
    "\n",
    "    # Create lines connecting the loop points\n",
    "    lines = []\n",
    "    for i in range(len(loop_pts) - 1):\n",
    "        lines.append([2, i, i+1])\n",
    "    lines.append([2, len(loop_pts)-1, 0])  # Close the loop\n",
    "\n",
    "    loop_lines = pv.PolyData()\n",
    "    loop_lines.points = loop_pts\n",
    "    loop_lines.lines = np.hstack(lines)\n",
    "\n",
    "    # Plot\n",
    "    p = pv.Plotter()\n",
    "    p.add_mesh(point_cloud, scalars='index', cmap='plasma', point_size=8, render_points_as_spheres=True)\n",
    "    p.add_mesh(loop_lines, color='black', line_width=2)\n",
    "    p.add_text(\"Ordered Boundary Loop\", font_size=12)\n",
    "    p.show()\n"
   ]
  },
  {
   "cell_type": "code",
   "execution_count": 31,
   "metadata": {},
   "outputs": [
    {
     "name": "stdout",
     "output_type": "stream",
     "text": [
      "Loading cases …\n"
     ]
    },
    {
     "name": "stderr",
     "output_type": "stream",
     "text": [
      "ERROR:root:Input for connection index 0 on input port index 0 for algorithm vtkFeatureEdges (00000280DC3CC6E0) is of type vtkUnstructuredGrid, but a vtkPolyData is required.\n"
     ]
    },
    {
     "name": "stdout",
     "output_type": "stream",
     "text": [
      "Non-manifold edge count: 0\n",
      "⚠️ Some normals point inward!\n",
      "Cleaned hull mesh:\n",
      "triangulating hull0\n",
      "hull0 triangulated\n",
      "UV grid not used, using original hull mesh\n"
     ]
    },
    {
     "data": {
      "application/vnd.jupyter.widget-view+json": {
       "model_id": "55c9fb90d4ea4d75ae31117debb27a3f",
       "version_major": 2,
       "version_minor": 0
      },
      "text/plain": [
       "Widget(value='<iframe src=\"http://localhost:51306/index.html?ui=P_0x280500f52b0_25&reconnect=auto\" class=\"pyvi…"
      ]
     },
     "metadata": {},
     "output_type": "display_data"
    },
    {
     "name": "stderr",
     "output_type": "stream",
     "text": [
      "ERROR:asyncio:Task exception was never retrieved\n",
      "future: <Task finished name='Task-7998' coro=<WebSocketWriter.ping() done, defined at c:\\Users\\zack\\AppData\\Local\\anaconda3\\Lib\\site-packages\\aiohttp\\http_websocket.py:711> exception=ConnectionResetError('Cannot write to closing transport')>\n",
      "Traceback (most recent call last):\n",
      "  File \"c:\\Users\\zack\\AppData\\Local\\anaconda3\\Lib\\asyncio\\tasks.py\", line 314, in __step_run_and_handle_result\n",
      "    result = coro.send(None)\n",
      "             ^^^^^^^^^^^^^^^\n",
      "  File \"c:\\Users\\zack\\AppData\\Local\\anaconda3\\Lib\\site-packages\\aiohttp\\http_websocket.py\", line 715, in ping\n",
      "    await self._send_frame(message, WSMsgType.PING)\n",
      "  File \"c:\\Users\\zack\\AppData\\Local\\anaconda3\\Lib\\site-packages\\aiohttp\\http_websocket.py\", line 682, in _send_frame\n",
      "    self._write(header + message)\n",
      "  File \"c:\\Users\\zack\\AppData\\Local\\anaconda3\\Lib\\site-packages\\aiohttp\\http_websocket.py\", line 702, in _write\n",
      "    raise ConnectionResetError(\"Cannot write to closing transport\")\n",
      "ConnectionResetError: Cannot write to closing transport\n"
     ]
    }
   ],
   "source": [
    "# -------------------------------------------------------------\n",
    "# 1) LOAD CASES\n",
    "# -------------------------------------------------------------\n",
    "print(\"Loading cases …\")\n",
    "case_paths = [(f\"RUN{i:03d}\", os.path.join(BASE_DIR, f\"RUN{i:03d}\", \"case.foam\"))\n",
    "              for i in RUN_RANGE if os.path.exists(os.path.join(BASE_DIR, f\"RUN{i:03d}\", \"case.foam\"))]\n",
    "if not case_paths:\n",
    "    sys.exit(\"No .foam files found – check BASE_DIR.\")\n",
    "\n",
    "# template build\n",
    "run0, foam0 = case_paths[0]\n",
    "hull0 = extract_hull_mesh(foam0)\n",
    "hull0 = remove_hull_deck(hull0).clean()\n",
    "print ('triangulating hull0')\n",
    "hull0 = hull0.triangulate()\n",
    "print (\"hull0 triangulated\")\n",
    "V0 = hull0.points.astype(float)\n",
    "F0 = hull0.faces.reshape(-1,4)[:,1:].astype(np.int32)\n",
    "if UV_grid:\n",
    "    # Instead of UV0 = harmonic_uv(V0, F0)\n",
    "    \n",
    "    # Prepare UV sampling grid\n",
    "    nu = nv = 100\n",
    "    u_lin = np.linspace(0,1,nu)\n",
    "    v_lin = np.linspace(0,1,nv)\n",
    "    UU, VV = np.meshgrid(u_lin, v_lin)\n",
    "    UV_query = np.column_stack((UU.ravel(), VV.ravel()))\n",
    "    M = UV_query.shape[0]\n",
    "\n",
    "    print(\"UV sampling grid:\")\n",
    "    print(f\"  {nu} x {nv} = {M} points\")\n",
    "\n",
    "    # u_lin = np.linspace(0, 1, nu)\n",
    "    # v_lin = np.linspace(0, 1, nv)\n",
    "    # UU, VV = np.meshgrid(u_lin, v_lin)\n",
    "    UV0 = np.column_stack((UU.ravel(), VV.ravel()))\n",
    "else:\n",
    "    print (\"UV grid not used, using original hull mesh\")\n",
    "    # reorder boundary loop indices\n",
    "    loop_indices0 = get_consistent_boundary_loop(V0, F0)\n",
    "    loop_fixed_start = reorder_loop_start(V0, loop_indices0)\n",
    "    plot_ordered_boundary(V0, loop_fixed_start)\n",
    "    UV0 = harmonic_uv(V0, F0, boundary_indices=loop_fixed_start, to_square=USE_SQUARE) # this version takes in ordered boundary indices\n",
    "    # UV0 = harmonic_uv(V0,F0,USE_SQUARE)\n",
    "    \n",
    "faces_pv = np.hstack((np.full((F0.shape[0],1),3),F0)).astype(int)"
   ]
  },
  {
   "cell_type": "markdown",
   "metadata": {},
   "source": [
    "# TODO list\n",
    "\n",
    "- Re run hulls with open surfaces (additional patch)\n",
    "- Modularize for multiple scalars: surface pressure 'p', surface shear stress 'tau'\n",
    "- Predict free surface\n",
    "- Adapt Gappy POD\n",
    "- package workflow"
   ]
  },
  {
   "cell_type": "code",
   "execution_count": 16,
   "metadata": {},
   "outputs": [],
   "source": [
    "# # Visualize the harmonic UV map\n",
    "# uv_pts_cleaned = np.column_stack((UV_cleaned, np.zeros(len(UV_cleaned))))\n",
    "# faces_cleaned = np.hstack((np.full((F_cleaned.shape[0], 1), 3), F_cleaned)).astype(int)\n",
    "# mesh_uv_cleaned = pv.PolyData(uv_pts_cleaned, faces_cleaned)\n",
    "\n",
    "# plotter = pv.Plotter()\n",
    "# plotter.add_mesh(mesh_uv_cleaned, scalars=p_scalar, cmap=\"coolwarm\", show_edges=True)\n",
    "# plotter.add_text(\"Harmonic UV Map of Cleaned Hull\", font_size=12)\n",
    "# plotter.show()\n",
    "\n",
    "# # # Visualize the harmonic UV map for the template\n",
    "# # uv_pts_template = np.column_stack((UV0, np.zeros(len(UV0))))\n",
    "# # faces_template = np.hstack((np.full((F0.shape[0], 1), 3), F0)).astype(int)\n",
    "# # mesh_uv_template = pv.PolyData(uv_pts_template, faces_template)\n",
    "\n",
    "# # plotter = pv.Plotter()\n",
    "# # plotter.add_mesh(mesh_uv_template, scalars='None', cmap=\"coolwarm\", show_edges=True)\n",
    "# # plotter.add_text(\"Harmonic UV Map for Template\", font_size=12)\n",
    "# # plotter.show()"
   ]
  },
  {
   "cell_type": "code",
   "execution_count": 17,
   "metadata": {},
   "outputs": [],
   "source": [
    "# from scipy.interpolate import LinearNDInterpolator\n",
    "\n",
    "# #-------------------------------------------------------------\n",
    "# # 2) Prepare UV sampling grid\n",
    "# #-------------------------------------------------------------\n",
    "\n",
    "# nu = nv = 100\n",
    "# u_lin = np.linspace(0,1,nu)\n",
    "# v_lin = np.linspace(0,1,nv)\n",
    "# UU, VV = np.meshgrid(u_lin, v_lin)\n",
    "# UV_query = np.column_stack((UU.ravel(), VV.ravel()))\n",
    "# M = UV_query.shape[0]\n",
    "\n",
    "# print(\"UV sampling grid:\")\n",
    "# print(f\"  {nu} x {nv} = {M} points\")\n",
    "\n",
    "# #-------------------------------------------------------------\n",
    "# # 3) Process snapshots: fast linear interpolation\n",
    "# #-------------------------------------------------------------\n",
    "# # containers\n",
    "# uv_widgets = []\n",
    "# pressure_snap, geomX, geomY, geomZ = [], [], [], []\n",
    "# all_hull_meshes, all_uv_meshes = [], []\n",
    "\n",
    "# for idx, case in enumerate(case_paths):\n",
    "#     rid, fp = case\n",
    "#     print(f\"Snapshot {rid}\")\n",
    "#     hull = extract_hull_mesh_zxc(fp)\n",
    "#     print (\"Hull mesh extracted\")\n",
    "#     V = hull.points\n",
    "#     F = hull.cells.reshape(-1, 4)[:, 1:]\n",
    "#     UV_src = harmonic_uv(V, F)\n",
    "#     print (\"Harmonic UV mesh extracted\")\n",
    "#     P_src = hull['p'].astype(float)\n",
    "#     print (\"Pressure data extracted\")\n",
    "#     # Setup linear interpolator in UV space\n",
    "#     interp = LinearNDInterpolator(UV_src, P_src, fill_value=np.nan)\n",
    "#     print (\"Linear interpolator set up\")\n",
    "#     # Sample over uniform UV grid\n",
    "#     P_grid = interp(UV_query)\n",
    "    \n",
    "#     # handle any nans (outside convex hull, rare)\n",
    "#     nan_mask = np.isnan(P_grid)\n",
    "#     if nan_mask.any():\n",
    "#         # fallback: nearest neighbor\n",
    "#         from scipy.spatial import cKDTree\n",
    "#         tree = cKDTree(UV_src)\n",
    "#         _, idx_nn = tree.query(UV_query[nan_mask])\n",
    "#         P_grid[nan_mask] = P_src[idx_nn]\n",
    "\n",
    "#     pressure_snap.append(P_grid)\n",
    "\n",
    "#     if idx < SNAPSHOTS_TO_SHOW:\n",
    "#         grid = pv.StructuredGrid(UU, VV, np.zeros_like(UU))\n",
    "#         grid.point_data['p'] = P_grid\n",
    "#         uv_widgets.append(grid)\n",
    "\n",
    "# # visualize snapshots in UV\n",
    "# plt = pv.Plotter(shape=(SNAPSHOTS_TO_SHOW,1), window_size=(400,200*SNAPSHOTS_TO_SHOW))\n",
    "# for k, grid in enumerate(uv_widgets):\n",
    "#     plt.subplot(k,0)\n",
    "#     plt.add_mesh(grid, scalars='p', cmap='coolwarm', show_edges=False)\n",
    "#     plt.add_text(case_paths[k][0], font_size=8)\n",
    "# plt.show()\n"
   ]
  },
  {
   "cell_type": "code",
   "execution_count": 18,
   "metadata": {},
   "outputs": [],
   "source": [
    "# #-------------------------------------------------------------\n",
    "# # 2) SNAPSHOT PROCESSING & RESAMPLING (with uniform UV grid)\n",
    "# #-------------------------------------------------------------\n",
    "# from scipy.interpolate import griddata\n",
    "\n",
    "\n",
    "# pressure_snap, geomX, geomY, geomZ = [], [], [], []\n",
    "# all_hull_meshes, all_uv_meshes = [], []\n",
    "\n",
    "# for idx, (rid, fp) in enumerate(case_paths):\n",
    "#     hull = extract_hull_mesh(fp)\n",
    "#     V = hull.points.astype(np.float64)\n",
    "#     F = hull.cells.reshape(-1, 4)[:, 1:].astype(np.int32)\n",
    "#     if \"p\" not in hull.point_data:\n",
    "#         raise RuntimeError(f\"pressure missing in {rid}\")\n",
    "\n",
    "#     UV_src = harmonic_uv(V, F, USE_SQUARE)\n",
    "#     P_src = hull.point_data[\"p\"].astype(float)\n",
    "\n",
    "#     # Interpolate pressure onto uniform UV grid\n",
    "#     P_grid = griddata(UV_src, P_src, UV_query, method='linear', fill_value=np.nan)\n",
    "\n",
    "#     # Handle NaNs by nearest-neighbor interpolation\n",
    "#     nan_mask = np.isnan(P_grid)\n",
    "#     if np.any(nan_mask):\n",
    "#         P_grid[nan_mask] = griddata(UV_src, P_src, UV_query[nan_mask], method='nearest')\n",
    "\n",
    "#     pressure_snap.append(P_grid)\n",
    "#     geomX.append(V[:, 0])\n",
    "#     geomY.append(V[:, 1])\n",
    "#     geomZ.append(V[:, 2])\n",
    "\n",
    "#     # store for visual grid (first SNAPSHOTS_TO_SHOW)\n",
    "#     if len(all_hull_meshes) <= SNAPSHOTS_TO_SHOW:\n",
    "#         m3d = hull.copy()\n",
    "#         m3d.point_data[\"p\"] = hull.point_data[\"p\"]\n",
    "#         all_hull_meshes.append(m3d)\n",
    "\n",
    "#         uv_pts = np.column_stack((UV_query, np.zeros(len(UV_query))))\n",
    "#         faces_pv = []  # Using structured grid, no need for faces explicitly\n",
    "#         m2d = pv.StructuredGrid(UU, VV, np.zeros_like(UU))\n",
    "#         m2d.point_data[\"p\"] = P_grid\n",
    "#         all_uv_meshes.append(m2d)\n",
    "\n"
   ]
  },
  {
   "cell_type": "code",
   "execution_count": null,
   "metadata": {},
   "outputs": [
    {
     "name": "stderr",
     "output_type": "stream",
     "text": [
      "ERROR:root:Input for connection index 0 on input port index 0 for algorithm vtkFeatureEdges (00000280DC3DBAE0) is of type vtkUnstructuredGrid, but a vtkPolyData is required.\n"
     ]
    },
    {
     "name": "stdout",
     "output_type": "stream",
     "text": [
      "Non-manifold edge count: 0\n",
      "⚠️ Some normals point inward!\n",
      "Cleaned hull mesh:\n",
      "here\n"
     ]
    },
    {
     "name": "stderr",
     "output_type": "stream",
     "text": [
      "ERROR:root:Input for connection index 0 on input port index 0 for algorithm vtkFeatureEdges (00000280DC3DDCE0) is of type vtkUnstructuredGrid, but a vtkPolyData is required.\n"
     ]
    },
    {
     "name": "stdout",
     "output_type": "stream",
     "text": [
      "Non-manifold edge count: 0\n",
      "⚠️ Some normals point inward!\n",
      "Cleaned hull mesh:\n"
     ]
    },
    {
     "data": {
      "application/vnd.jupyter.widget-view+json": {
       "model_id": "3003ecbd26fb469dac97e7fbfea21211",
       "version_major": 2,
       "version_minor": 0
      },
      "text/plain": [
       "Widget(value='<iframe src=\"http://localhost:51306/index.html?ui=P_0x280500f5550_26&reconnect=auto\" class=\"pyvi…"
      ]
     },
     "metadata": {},
     "output_type": "display_data"
    },
    {
     "name": "stderr",
     "output_type": "stream",
     "text": [
      "ERROR:root:Input for connection index 0 on input port index 0 for algorithm vtkFeatureEdges (00000280DC3E92E0) is of type vtkUnstructuredGrid, but a vtkPolyData is required.\n"
     ]
    },
    {
     "name": "stdout",
     "output_type": "stream",
     "text": [
      "Non-manifold edge count: 0\n",
      "⚠️ Some normals point inward!\n",
      "Cleaned hull mesh:\n"
     ]
    },
    {
     "data": {
      "application/vnd.jupyter.widget-view+json": {
       "model_id": "0cc8470022d94ba0b2ec3b3b646c8d80",
       "version_major": 2,
       "version_minor": 0
      },
      "text/plain": [
       "Widget(value='<iframe src=\"http://localhost:51306/index.html?ui=P_0x280354f8950_27&reconnect=auto\" class=\"pyvi…"
      ]
     },
     "metadata": {},
     "output_type": "display_data"
    },
    {
     "name": "stderr",
     "output_type": "stream",
     "text": [
      "ERROR:root:Input for connection index 0 on input port index 0 for algorithm vtkFeatureEdges (000002821B5129F0) is of type vtkUnstructuredGrid, but a vtkPolyData is required.\n"
     ]
    },
    {
     "name": "stdout",
     "output_type": "stream",
     "text": [
      "Non-manifold edge count: 0\n",
      "⚠️ Some normals point inward!\n",
      "Cleaned hull mesh:\n"
     ]
    },
    {
     "data": {
      "application/vnd.jupyter.widget-view+json": {
       "model_id": "61dbef751c554d40a53099d1e26b3491",
       "version_major": 2,
       "version_minor": 0
      },
      "text/plain": [
       "Widget(value='<iframe src=\"http://localhost:51306/index.html?ui=P_0x280329b4fe0_28&reconnect=auto\" class=\"pyvi…"
      ]
     },
     "metadata": {},
     "output_type": "display_data"
    },
    {
     "name": "stderr",
     "output_type": "stream",
     "text": [
      "ERROR:root:Input for connection index 0 on input port index 0 for algorithm vtkFeatureEdges (000002821B51D6F0) is of type vtkUnstructuredGrid, but a vtkPolyData is required.\n"
     ]
    },
    {
     "name": "stdout",
     "output_type": "stream",
     "text": [
      "Non-manifold edge count: 0\n",
      "⚠️ Some normals point inward!\n",
      "Cleaned hull mesh:\n"
     ]
    },
    {
     "data": {
      "application/vnd.jupyter.widget-view+json": {
       "model_id": "64c844c261d6494c90aac886ac571c93",
       "version_major": 2,
       "version_minor": 0
      },
      "text/plain": [
       "Widget(value='<iframe src=\"http://localhost:51306/index.html?ui=P_0x280354f96a0_29&reconnect=auto\" class=\"pyvi…"
      ]
     },
     "metadata": {},
     "output_type": "display_data"
    },
    {
     "name": "stderr",
     "output_type": "stream",
     "text": [
      "ERROR:root:Input for connection index 0 on input port index 0 for algorithm vtkFeatureEdges (000002821B52ADF0) is of type vtkUnstructuredGrid, but a vtkPolyData is required.\n"
     ]
    },
    {
     "name": "stdout",
     "output_type": "stream",
     "text": [
      "Non-manifold edge count: 0\n",
      "⚠️ Some normals point inward!\n",
      "Cleaned hull mesh:\n"
     ]
    },
    {
     "data": {
      "application/vnd.jupyter.widget-view+json": {
       "model_id": "de40ef6831564c7eb382979eb02137b2",
       "version_major": 2,
       "version_minor": 0
      },
      "text/plain": [
       "Widget(value='<iframe src=\"http://localhost:51306/index.html?ui=P_0x28032a45700_30&reconnect=auto\" class=\"pyvi…"
      ]
     },
     "metadata": {},
     "output_type": "display_data"
    },
    {
     "name": "stderr",
     "output_type": "stream",
     "text": [
      "ERROR:root:Input for connection index 0 on input port index 0 for algorithm vtkFeatureEdges (000002821B5372F0) is of type vtkUnstructuredGrid, but a vtkPolyData is required.\n"
     ]
    },
    {
     "name": "stdout",
     "output_type": "stream",
     "text": [
      "Non-manifold edge count: 0\n",
      "⚠️ Some normals point inward!\n",
      "Cleaned hull mesh:\n"
     ]
    },
    {
     "data": {
      "application/vnd.jupyter.widget-view+json": {
       "model_id": "c375c09bf5b948e587dad6eca287f31a",
       "version_major": 2,
       "version_minor": 0
      },
      "text/plain": [
       "Widget(value='<iframe src=\"http://localhost:51306/index.html?ui=P_0x28032a47c50_31&reconnect=auto\" class=\"pyvi…"
      ]
     },
     "metadata": {},
     "output_type": "display_data"
    },
    {
     "name": "stderr",
     "output_type": "stream",
     "text": [
      "ERROR:root:Input for connection index 0 on input port index 0 for algorithm vtkFeatureEdges (000002821B541EF0) is of type vtkUnstructuredGrid, but a vtkPolyData is required.\n"
     ]
    },
    {
     "name": "stdout",
     "output_type": "stream",
     "text": [
      "Non-manifold edge count: 0\n",
      "⚠️ Some normals point inward!\n",
      "Cleaned hull mesh:\n"
     ]
    },
    {
     "data": {
      "application/vnd.jupyter.widget-view+json": {
       "model_id": "1fc10720f30c4a5a80cc0fb75ef06e3e",
       "version_major": 2,
       "version_minor": 0
      },
      "text/plain": [
       "Widget(value='<iframe src=\"http://localhost:51306/index.html?ui=P_0x280010f3050_32&reconnect=auto\" class=\"pyvi…"
      ]
     },
     "metadata": {},
     "output_type": "display_data"
    },
    {
     "name": "stderr",
     "output_type": "stream",
     "text": [
      "ERROR:root:Input for connection index 0 on input port index 0 for algorithm vtkFeatureEdges (000002821B54E6F0) is of type vtkUnstructuredGrid, but a vtkPolyData is required.\n"
     ]
    },
    {
     "name": "stdout",
     "output_type": "stream",
     "text": [
      "Non-manifold edge count: 0\n",
      "⚠️ Some normals point inward!\n",
      "Cleaned hull mesh:\n"
     ]
    },
    {
     "data": {
      "application/vnd.jupyter.widget-view+json": {
       "model_id": "d64824e72b3d4f489bf16e43842de608",
       "version_major": 2,
       "version_minor": 0
      },
      "text/plain": [
       "Widget(value='<iframe src=\"http://localhost:51306/index.html?ui=P_0x28035476d80_33&reconnect=auto\" class=\"pyvi…"
      ]
     },
     "metadata": {},
     "output_type": "display_data"
    },
    {
     "name": "stderr",
     "output_type": "stream",
     "text": [
      "ERROR:root:Input for connection index 0 on input port index 0 for algorithm vtkFeatureEdges (000002822F21FAF0) is of type vtkUnstructuredGrid, but a vtkPolyData is required.\n"
     ]
    },
    {
     "name": "stdout",
     "output_type": "stream",
     "text": [
      "Non-manifold edge count: 0\n",
      "⚠️ Some normals point inward!\n",
      "Cleaned hull mesh:\n"
     ]
    },
    {
     "data": {
      "application/vnd.jupyter.widget-view+json": {
       "model_id": "8a920bf32185445a8c45c7d7e45b4232",
       "version_major": 2,
       "version_minor": 0
      },
      "text/plain": [
       "Widget(value='<iframe src=\"http://localhost:51306/index.html?ui=P_0x28035449820_34&reconnect=auto\" class=\"pyvi…"
      ]
     },
     "metadata": {},
     "output_type": "display_data"
    },
    {
     "name": "stderr",
     "output_type": "stream",
     "text": [
      "ERROR:root:Input for connection index 0 on input port index 0 for algorithm vtkFeatureEdges (000002822F22A7F0) is of type vtkUnstructuredGrid, but a vtkPolyData is required.\n"
     ]
    },
    {
     "name": "stdout",
     "output_type": "stream",
     "text": [
      "Non-manifold edge count: 0\n",
      "⚠️ Some normals point inward!\n",
      "Cleaned hull mesh:\n"
     ]
    },
    {
     "data": {
      "application/vnd.jupyter.widget-view+json": {
       "model_id": "59a0cb290fe4420d827b9c7fdbd69731",
       "version_major": 2,
       "version_minor": 0
      },
      "text/plain": [
       "Widget(value='<iframe src=\"http://localhost:51306/index.html?ui=P_0x280010b36b0_35&reconnect=auto\" class=\"pyvi…"
      ]
     },
     "metadata": {},
     "output_type": "display_data"
    },
    {
     "name": "stderr",
     "output_type": "stream",
     "text": [
      "ERROR:root:Input for connection index 0 on input port index 0 for algorithm vtkFeatureEdges (000002822F2361F0) is of type vtkUnstructuredGrid, but a vtkPolyData is required.\n"
     ]
    },
    {
     "name": "stdout",
     "output_type": "stream",
     "text": [
      "Non-manifold edge count: 0\n",
      "⚠️ Some normals point inward!\n",
      "Cleaned hull mesh:\n"
     ]
    },
    {
     "data": {
      "application/vnd.jupyter.widget-view+json": {
       "model_id": "e9ba7f7735d14f8eb9e131754d261834",
       "version_major": 2,
       "version_minor": 0
      },
      "text/plain": [
       "Widget(value='<iframe src=\"http://localhost:51306/index.html?ui=P_0x280010c6630_36&reconnect=auto\" class=\"pyvi…"
      ]
     },
     "metadata": {},
     "output_type": "display_data"
    },
    {
     "name": "stderr",
     "output_type": "stream",
     "text": [
      "ERROR:root:Input for connection index 0 on input port index 0 for algorithm vtkFeatureEdges (000002822F243BF0) is of type vtkUnstructuredGrid, but a vtkPolyData is required.\n"
     ]
    },
    {
     "name": "stdout",
     "output_type": "stream",
     "text": [
      "Non-manifold edge count: 0\n",
      "⚠️ Some normals point inward!\n",
      "Cleaned hull mesh:\n"
     ]
    },
    {
     "data": {
      "application/vnd.jupyter.widget-view+json": {
       "model_id": "499a25c6b8754a4295da57fd13d56405",
       "version_major": 2,
       "version_minor": 0
      },
      "text/plain": [
       "Widget(value='<iframe src=\"http://localhost:51306/index.html?ui=P_0x28003e3a300_37&reconnect=auto\" class=\"pyvi…"
      ]
     },
     "metadata": {},
     "output_type": "display_data"
    },
    {
     "name": "stderr",
     "output_type": "stream",
     "text": [
      "ERROR:root:Input for connection index 0 on input port index 0 for algorithm vtkFeatureEdges (000002822F250EF0) is of type vtkUnstructuredGrid, but a vtkPolyData is required.\n"
     ]
    },
    {
     "name": "stdout",
     "output_type": "stream",
     "text": [
      "Non-manifold edge count: 0\n",
      "⚠️ Some normals point inward!\n",
      "Cleaned hull mesh:\n"
     ]
    },
    {
     "data": {
      "application/vnd.jupyter.widget-view+json": {
       "model_id": "235c4a35731e44a08810c562c953dced",
       "version_major": 2,
       "version_minor": 0
      },
      "text/plain": [
       "Widget(value='<iframe src=\"http://localhost:51306/index.html?ui=P_0x28003e96a20_38&reconnect=auto\" class=\"pyvi…"
      ]
     },
     "metadata": {},
     "output_type": "display_data"
    },
    {
     "name": "stderr",
     "output_type": "stream",
     "text": [
      "ERROR:root:Input for connection index 0 on input port index 0 for algorithm vtkFeatureEdges (000002822E16D4E0) is of type vtkUnstructuredGrid, but a vtkPolyData is required.\n"
     ]
    },
    {
     "name": "stdout",
     "output_type": "stream",
     "text": [
      "Non-manifold edge count: 0\n",
      "⚠️ Some normals point inward!\n",
      "Cleaned hull mesh:\n"
     ]
    },
    {
     "data": {
      "application/vnd.jupyter.widget-view+json": {
       "model_id": "adf7d4169326486ba6cf009c4f0f425c",
       "version_major": 2,
       "version_minor": 0
      },
      "text/plain": [
       "Widget(value='<iframe src=\"http://localhost:51306/index.html?ui=P_0x28003e967e0_39&reconnect=auto\" class=\"pyvi…"
      ]
     },
     "metadata": {},
     "output_type": "display_data"
    },
    {
     "name": "stderr",
     "output_type": "stream",
     "text": [
      "ERROR:root:Input for connection index 0 on input port index 0 for algorithm vtkFeatureEdges (000002822E1798E0) is of type vtkUnstructuredGrid, but a vtkPolyData is required.\n"
     ]
    },
    {
     "name": "stdout",
     "output_type": "stream",
     "text": [
      "Non-manifold edge count: 0\n",
      "⚠️ Some normals point inward!\n",
      "Cleaned hull mesh:\n"
     ]
    },
    {
     "data": {
      "application/vnd.jupyter.widget-view+json": {
       "model_id": "f55964385fea4d04baf2785a72dbb480",
       "version_major": 2,
       "version_minor": 0
      },
      "text/plain": [
       "Widget(value='<iframe src=\"http://localhost:51306/index.html?ui=P_0x2806f7f5280_40&reconnect=auto\" class=\"pyvi…"
      ]
     },
     "metadata": {},
     "output_type": "display_data"
    },
    {
     "name": "stderr",
     "output_type": "stream",
     "text": [
      "ERROR:root:Input for connection index 0 on input port index 0 for algorithm vtkFeatureEdges (000002822E1854E0) is of type vtkUnstructuredGrid, but a vtkPolyData is required.\n"
     ]
    },
    {
     "name": "stdout",
     "output_type": "stream",
     "text": [
      "Non-manifold edge count: 0\n",
      "⚠️ Some normals point inward!\n",
      "Cleaned hull mesh:\n"
     ]
    },
    {
     "data": {
      "application/vnd.jupyter.widget-view+json": {
       "model_id": "c3742af4db4b4f3c8889a836109a3943",
       "version_major": 2,
       "version_minor": 0
      },
      "text/plain": [
       "Widget(value='<iframe src=\"http://localhost:51306/index.html?ui=P_0x280a486d2e0_41&reconnect=auto\" class=\"pyvi…"
      ]
     },
     "metadata": {},
     "output_type": "display_data"
    },
    {
     "name": "stderr",
     "output_type": "stream",
     "text": [
      "ERROR:root:Input for connection index 0 on input port index 0 for algorithm vtkFeatureEdges (000002822E191CE0) is of type vtkUnstructuredGrid, but a vtkPolyData is required.\n"
     ]
    },
    {
     "name": "stdout",
     "output_type": "stream",
     "text": [
      "Non-manifold edge count: 0\n",
      "⚠️ Some normals point inward!\n",
      "Cleaned hull mesh:\n"
     ]
    },
    {
     "data": {
      "application/vnd.jupyter.widget-view+json": {
       "model_id": "c2e56f459cd543c7b83418c6de7b4e69",
       "version_major": 2,
       "version_minor": 0
      },
      "text/plain": [
       "Widget(value='<iframe src=\"http://localhost:51306/index.html?ui=P_0x280a486f380_42&reconnect=auto\" class=\"pyvi…"
      ]
     },
     "metadata": {},
     "output_type": "display_data"
    },
    {
     "name": "stderr",
     "output_type": "stream",
     "text": [
      "ERROR:root:Input for connection index 0 on input port index 0 for algorithm vtkFeatureEdges (000002822E19ECE0) is of type vtkUnstructuredGrid, but a vtkPolyData is required.\n"
     ]
    },
    {
     "name": "stdout",
     "output_type": "stream",
     "text": [
      "Non-manifold edge count: 0\n",
      "⚠️ Some normals point inward!\n",
      "Cleaned hull mesh:\n"
     ]
    },
    {
     "data": {
      "application/vnd.jupyter.widget-view+json": {
       "model_id": "780096909ab64d38a764926bd6ab8ca1",
       "version_major": 2,
       "version_minor": 0
      },
      "text/plain": [
       "Widget(value='<iframe src=\"http://localhost:51306/index.html?ui=P_0x280c5a584d0_43&reconnect=auto\" class=\"pyvi…"
      ]
     },
     "metadata": {},
     "output_type": "display_data"
    },
    {
     "name": "stderr",
     "output_type": "stream",
     "text": [
      "ERROR:asyncio:Task exception was never retrieved\n",
      "future: <Task finished name='Task-8249' coro=<WebSocketWriter.ping() done, defined at c:\\Users\\zack\\AppData\\Local\\anaconda3\\Lib\\site-packages\\aiohttp\\http_websocket.py:711> exception=ConnectionResetError('Cannot write to closing transport')>\n",
      "Traceback (most recent call last):\n",
      "  File \"c:\\Users\\zack\\AppData\\Local\\anaconda3\\Lib\\asyncio\\tasks.py\", line 314, in __step_run_and_handle_result\n",
      "    result = coro.send(None)\n",
      "             ^^^^^^^^^^^^^^^\n",
      "  File \"c:\\Users\\zack\\AppData\\Local\\anaconda3\\Lib\\site-packages\\aiohttp\\http_websocket.py\", line 715, in ping\n",
      "    await self._send_frame(message, WSMsgType.PING)\n",
      "  File \"c:\\Users\\zack\\AppData\\Local\\anaconda3\\Lib\\site-packages\\aiohttp\\http_websocket.py\", line 682, in _send_frame\n",
      "    self._write(header + message)\n",
      "  File \"c:\\Users\\zack\\AppData\\Local\\anaconda3\\Lib\\site-packages\\aiohttp\\http_websocket.py\", line 702, in _write\n",
      "    raise ConnectionResetError(\"Cannot write to closing transport\")\n",
      "ConnectionResetError: Cannot write to closing transport\n",
      "ERROR:asyncio:Task exception was never retrieved\n",
      "future: <Task finished name='Task-8250' coro=<WebSocketWriter.ping() done, defined at c:\\Users\\zack\\AppData\\Local\\anaconda3\\Lib\\site-packages\\aiohttp\\http_websocket.py:711> exception=ConnectionResetError('Cannot write to closing transport')>\n",
      "Traceback (most recent call last):\n",
      "  File \"c:\\Users\\zack\\AppData\\Local\\anaconda3\\Lib\\asyncio\\tasks.py\", line 314, in __step_run_and_handle_result\n",
      "    result = coro.send(None)\n",
      "             ^^^^^^^^^^^^^^^\n",
      "  File \"c:\\Users\\zack\\AppData\\Local\\anaconda3\\Lib\\site-packages\\aiohttp\\http_websocket.py\", line 715, in ping\n",
      "    await self._send_frame(message, WSMsgType.PING)\n",
      "  File \"c:\\Users\\zack\\AppData\\Local\\anaconda3\\Lib\\site-packages\\aiohttp\\http_websocket.py\", line 682, in _send_frame\n",
      "    self._write(header + message)\n",
      "  File \"c:\\Users\\zack\\AppData\\Local\\anaconda3\\Lib\\site-packages\\aiohttp\\http_websocket.py\", line 702, in _write\n",
      "    raise ConnectionResetError(\"Cannot write to closing transport\")\n",
      "ConnectionResetError: Cannot write to closing transport\n",
      "ERROR:asyncio:Task exception was never retrieved\n",
      "future: <Task finished name='Task-8251' coro=<WebSocketWriter.ping() done, defined at c:\\Users\\zack\\AppData\\Local\\anaconda3\\Lib\\site-packages\\aiohttp\\http_websocket.py:711> exception=ConnectionResetError('Cannot write to closing transport')>\n",
      "Traceback (most recent call last):\n",
      "  File \"c:\\Users\\zack\\AppData\\Local\\anaconda3\\Lib\\asyncio\\tasks.py\", line 314, in __step_run_and_handle_result\n",
      "    result = coro.send(None)\n",
      "             ^^^^^^^^^^^^^^^\n",
      "  File \"c:\\Users\\zack\\AppData\\Local\\anaconda3\\Lib\\site-packages\\aiohttp\\http_websocket.py\", line 715, in ping\n",
      "    await self._send_frame(message, WSMsgType.PING)\n",
      "  File \"c:\\Users\\zack\\AppData\\Local\\anaconda3\\Lib\\site-packages\\aiohttp\\http_websocket.py\", line 682, in _send_frame\n",
      "    self._write(header + message)\n",
      "  File \"c:\\Users\\zack\\AppData\\Local\\anaconda3\\Lib\\site-packages\\aiohttp\\http_websocket.py\", line 702, in _write\n",
      "    raise ConnectionResetError(\"Cannot write to closing transport\")\n",
      "ConnectionResetError: Cannot write to closing transport\n",
      "ERROR:asyncio:Task exception was never retrieved\n",
      "future: <Task finished name='Task-8252' coro=<WebSocketWriter.ping() done, defined at c:\\Users\\zack\\AppData\\Local\\anaconda3\\Lib\\site-packages\\aiohttp\\http_websocket.py:711> exception=ConnectionResetError('Cannot write to closing transport')>\n",
      "Traceback (most recent call last):\n",
      "  File \"c:\\Users\\zack\\AppData\\Local\\anaconda3\\Lib\\asyncio\\tasks.py\", line 314, in __step_run_and_handle_result\n",
      "    result = coro.send(None)\n",
      "             ^^^^^^^^^^^^^^^\n",
      "  File \"c:\\Users\\zack\\AppData\\Local\\anaconda3\\Lib\\site-packages\\aiohttp\\http_websocket.py\", line 715, in ping\n",
      "    await self._send_frame(message, WSMsgType.PING)\n",
      "  File \"c:\\Users\\zack\\AppData\\Local\\anaconda3\\Lib\\site-packages\\aiohttp\\http_websocket.py\", line 682, in _send_frame\n",
      "    self._write(header + message)\n",
      "  File \"c:\\Users\\zack\\AppData\\Local\\anaconda3\\Lib\\site-packages\\aiohttp\\http_websocket.py\", line 702, in _write\n",
      "    raise ConnectionResetError(\"Cannot write to closing transport\")\n",
      "ConnectionResetError: Cannot write to closing transport\n",
      "ERROR:asyncio:Task exception was never retrieved\n",
      "future: <Task finished name='Task-8253' coro=<WebSocketWriter.ping() done, defined at c:\\Users\\zack\\AppData\\Local\\anaconda3\\Lib\\site-packages\\aiohttp\\http_websocket.py:711> exception=ConnectionResetError('Cannot write to closing transport')>\n",
      "Traceback (most recent call last):\n",
      "  File \"c:\\Users\\zack\\AppData\\Local\\anaconda3\\Lib\\asyncio\\tasks.py\", line 314, in __step_run_and_handle_result\n",
      "    result = coro.send(None)\n",
      "             ^^^^^^^^^^^^^^^\n",
      "  File \"c:\\Users\\zack\\AppData\\Local\\anaconda3\\Lib\\site-packages\\aiohttp\\http_websocket.py\", line 715, in ping\n",
      "    await self._send_frame(message, WSMsgType.PING)\n",
      "  File \"c:\\Users\\zack\\AppData\\Local\\anaconda3\\Lib\\site-packages\\aiohttp\\http_websocket.py\", line 682, in _send_frame\n",
      "    self._write(header + message)\n",
      "  File \"c:\\Users\\zack\\AppData\\Local\\anaconda3\\Lib\\site-packages\\aiohttp\\http_websocket.py\", line 702, in _write\n",
      "    raise ConnectionResetError(\"Cannot write to closing transport\")\n",
      "ConnectionResetError: Cannot write to closing transport\n",
      "ERROR:asyncio:Task exception was never retrieved\n",
      "future: <Task finished name='Task-8254' coro=<WebSocketWriter.ping() done, defined at c:\\Users\\zack\\AppData\\Local\\anaconda3\\Lib\\site-packages\\aiohttp\\http_websocket.py:711> exception=ConnectionResetError('Cannot write to closing transport')>\n",
      "Traceback (most recent call last):\n",
      "  File \"c:\\Users\\zack\\AppData\\Local\\anaconda3\\Lib\\asyncio\\tasks.py\", line 314, in __step_run_and_handle_result\n",
      "    result = coro.send(None)\n",
      "             ^^^^^^^^^^^^^^^\n",
      "  File \"c:\\Users\\zack\\AppData\\Local\\anaconda3\\Lib\\site-packages\\aiohttp\\http_websocket.py\", line 715, in ping\n",
      "    await self._send_frame(message, WSMsgType.PING)\n",
      "  File \"c:\\Users\\zack\\AppData\\Local\\anaconda3\\Lib\\site-packages\\aiohttp\\http_websocket.py\", line 682, in _send_frame\n",
      "    self._write(header + message)\n",
      "  File \"c:\\Users\\zack\\AppData\\Local\\anaconda3\\Lib\\site-packages\\aiohttp\\http_websocket.py\", line 702, in _write\n",
      "    raise ConnectionResetError(\"Cannot write to closing transport\")\n",
      "ConnectionResetError: Cannot write to closing transport\n",
      "ERROR:asyncio:Task exception was never retrieved\n",
      "future: <Task finished name='Task-8255' coro=<WebSocketWriter.ping() done, defined at c:\\Users\\zack\\AppData\\Local\\anaconda3\\Lib\\site-packages\\aiohttp\\http_websocket.py:711> exception=ConnectionResetError('Cannot write to closing transport')>\n",
      "Traceback (most recent call last):\n",
      "  File \"c:\\Users\\zack\\AppData\\Local\\anaconda3\\Lib\\asyncio\\tasks.py\", line 314, in __step_run_and_handle_result\n",
      "    result = coro.send(None)\n",
      "             ^^^^^^^^^^^^^^^\n",
      "  File \"c:\\Users\\zack\\AppData\\Local\\anaconda3\\Lib\\site-packages\\aiohttp\\http_websocket.py\", line 715, in ping\n",
      "    await self._send_frame(message, WSMsgType.PING)\n",
      "  File \"c:\\Users\\zack\\AppData\\Local\\anaconda3\\Lib\\site-packages\\aiohttp\\http_websocket.py\", line 682, in _send_frame\n",
      "    self._write(header + message)\n",
      "  File \"c:\\Users\\zack\\AppData\\Local\\anaconda3\\Lib\\site-packages\\aiohttp\\http_websocket.py\", line 702, in _write\n",
      "    raise ConnectionResetError(\"Cannot write to closing transport\")\n",
      "ConnectionResetError: Cannot write to closing transport\n",
      "ERROR:asyncio:Task exception was never retrieved\n",
      "future: <Task finished name='Task-8256' coro=<WebSocketWriter.ping() done, defined at c:\\Users\\zack\\AppData\\Local\\anaconda3\\Lib\\site-packages\\aiohttp\\http_websocket.py:711> exception=ConnectionResetError('Cannot write to closing transport')>\n",
      "Traceback (most recent call last):\n",
      "  File \"c:\\Users\\zack\\AppData\\Local\\anaconda3\\Lib\\asyncio\\tasks.py\", line 314, in __step_run_and_handle_result\n",
      "    result = coro.send(None)\n",
      "             ^^^^^^^^^^^^^^^\n",
      "  File \"c:\\Users\\zack\\AppData\\Local\\anaconda3\\Lib\\site-packages\\aiohttp\\http_websocket.py\", line 715, in ping\n",
      "    await self._send_frame(message, WSMsgType.PING)\n",
      "  File \"c:\\Users\\zack\\AppData\\Local\\anaconda3\\Lib\\site-packages\\aiohttp\\http_websocket.py\", line 682, in _send_frame\n",
      "    self._write(header + message)\n",
      "  File \"c:\\Users\\zack\\AppData\\Local\\anaconda3\\Lib\\site-packages\\aiohttp\\http_websocket.py\", line 702, in _write\n",
      "    raise ConnectionResetError(\"Cannot write to closing transport\")\n",
      "ConnectionResetError: Cannot write to closing transport\n",
      "ERROR:asyncio:Task exception was never retrieved\n",
      "future: <Task finished name='Task-8257' coro=<WebSocketWriter.ping() done, defined at c:\\Users\\zack\\AppData\\Local\\anaconda3\\Lib\\site-packages\\aiohttp\\http_websocket.py:711> exception=ConnectionResetError('Cannot write to closing transport')>\n",
      "Traceback (most recent call last):\n",
      "  File \"c:\\Users\\zack\\AppData\\Local\\anaconda3\\Lib\\asyncio\\tasks.py\", line 314, in __step_run_and_handle_result\n",
      "    result = coro.send(None)\n",
      "             ^^^^^^^^^^^^^^^\n",
      "  File \"c:\\Users\\zack\\AppData\\Local\\anaconda3\\Lib\\site-packages\\aiohttp\\http_websocket.py\", line 715, in ping\n",
      "    await self._send_frame(message, WSMsgType.PING)\n",
      "  File \"c:\\Users\\zack\\AppData\\Local\\anaconda3\\Lib\\site-packages\\aiohttp\\http_websocket.py\", line 682, in _send_frame\n",
      "    self._write(header + message)\n",
      "  File \"c:\\Users\\zack\\AppData\\Local\\anaconda3\\Lib\\site-packages\\aiohttp\\http_websocket.py\", line 702, in _write\n",
      "    raise ConnectionResetError(\"Cannot write to closing transport\")\n",
      "ConnectionResetError: Cannot write to closing transport\n",
      "ERROR:asyncio:Task exception was never retrieved\n",
      "future: <Task finished name='Task-8258' coro=<WebSocketWriter.ping() done, defined at c:\\Users\\zack\\AppData\\Local\\anaconda3\\Lib\\site-packages\\aiohttp\\http_websocket.py:711> exception=ConnectionResetError('Cannot write to closing transport')>\n",
      "Traceback (most recent call last):\n",
      "  File \"c:\\Users\\zack\\AppData\\Local\\anaconda3\\Lib\\asyncio\\tasks.py\", line 314, in __step_run_and_handle_result\n",
      "    result = coro.send(None)\n",
      "             ^^^^^^^^^^^^^^^\n",
      "  File \"c:\\Users\\zack\\AppData\\Local\\anaconda3\\Lib\\site-packages\\aiohttp\\http_websocket.py\", line 715, in ping\n",
      "    await self._send_frame(message, WSMsgType.PING)\n",
      "  File \"c:\\Users\\zack\\AppData\\Local\\anaconda3\\Lib\\site-packages\\aiohttp\\http_websocket.py\", line 682, in _send_frame\n",
      "    self._write(header + message)\n",
      "  File \"c:\\Users\\zack\\AppData\\Local\\anaconda3\\Lib\\site-packages\\aiohttp\\http_websocket.py\", line 702, in _write\n",
      "    raise ConnectionResetError(\"Cannot write to closing transport\")\n",
      "ConnectionResetError: Cannot write to closing transport\n",
      "ERROR:asyncio:Task exception was never retrieved\n",
      "future: <Task finished name='Task-8259' coro=<WebSocketWriter.ping() done, defined at c:\\Users\\zack\\AppData\\Local\\anaconda3\\Lib\\site-packages\\aiohttp\\http_websocket.py:711> exception=ConnectionResetError('Cannot write to closing transport')>\n",
      "Traceback (most recent call last):\n",
      "  File \"c:\\Users\\zack\\AppData\\Local\\anaconda3\\Lib\\asyncio\\tasks.py\", line 314, in __step_run_and_handle_result\n",
      "    result = coro.send(None)\n",
      "             ^^^^^^^^^^^^^^^\n",
      "  File \"c:\\Users\\zack\\AppData\\Local\\anaconda3\\Lib\\site-packages\\aiohttp\\http_websocket.py\", line 715, in ping\n",
      "    await self._send_frame(message, WSMsgType.PING)\n",
      "  File \"c:\\Users\\zack\\AppData\\Local\\anaconda3\\Lib\\site-packages\\aiohttp\\http_websocket.py\", line 682, in _send_frame\n",
      "    self._write(header + message)\n",
      "  File \"c:\\Users\\zack\\AppData\\Local\\anaconda3\\Lib\\site-packages\\aiohttp\\http_websocket.py\", line 702, in _write\n",
      "    raise ConnectionResetError(\"Cannot write to closing transport\")\n",
      "ConnectionResetError: Cannot write to closing transport\n",
      "ERROR:asyncio:Task exception was never retrieved\n",
      "future: <Task finished name='Task-8260' coro=<WebSocketWriter.ping() done, defined at c:\\Users\\zack\\AppData\\Local\\anaconda3\\Lib\\site-packages\\aiohttp\\http_websocket.py:711> exception=ConnectionResetError('Cannot write to closing transport')>\n",
      "Traceback (most recent call last):\n",
      "  File \"c:\\Users\\zack\\AppData\\Local\\anaconda3\\Lib\\asyncio\\tasks.py\", line 314, in __step_run_and_handle_result\n",
      "    result = coro.send(None)\n",
      "             ^^^^^^^^^^^^^^^\n",
      "  File \"c:\\Users\\zack\\AppData\\Local\\anaconda3\\Lib\\site-packages\\aiohttp\\http_websocket.py\", line 715, in ping\n",
      "    await self._send_frame(message, WSMsgType.PING)\n",
      "  File \"c:\\Users\\zack\\AppData\\Local\\anaconda3\\Lib\\site-packages\\aiohttp\\http_websocket.py\", line 682, in _send_frame\n",
      "    self._write(header + message)\n",
      "  File \"c:\\Users\\zack\\AppData\\Local\\anaconda3\\Lib\\site-packages\\aiohttp\\http_websocket.py\", line 702, in _write\n",
      "    raise ConnectionResetError(\"Cannot write to closing transport\")\n",
      "ConnectionResetError: Cannot write to closing transport\n",
      "ERROR:asyncio:Task exception was never retrieved\n",
      "future: <Task finished name='Task-8261' coro=<WebSocketWriter.ping() done, defined at c:\\Users\\zack\\AppData\\Local\\anaconda3\\Lib\\site-packages\\aiohttp\\http_websocket.py:711> exception=ConnectionResetError('Cannot write to closing transport')>\n",
      "Traceback (most recent call last):\n",
      "  File \"c:\\Users\\zack\\AppData\\Local\\anaconda3\\Lib\\asyncio\\tasks.py\", line 314, in __step_run_and_handle_result\n",
      "    result = coro.send(None)\n",
      "             ^^^^^^^^^^^^^^^\n",
      "  File \"c:\\Users\\zack\\AppData\\Local\\anaconda3\\Lib\\site-packages\\aiohttp\\http_websocket.py\", line 715, in ping\n",
      "    await self._send_frame(message, WSMsgType.PING)\n",
      "  File \"c:\\Users\\zack\\AppData\\Local\\anaconda3\\Lib\\site-packages\\aiohttp\\http_websocket.py\", line 682, in _send_frame\n",
      "    self._write(header + message)\n",
      "  File \"c:\\Users\\zack\\AppData\\Local\\anaconda3\\Lib\\site-packages\\aiohttp\\http_websocket.py\", line 702, in _write\n",
      "    raise ConnectionResetError(\"Cannot write to closing transport\")\n",
      "ConnectionResetError: Cannot write to closing transport\n",
      "ERROR:asyncio:Task exception was never retrieved\n",
      "future: <Task finished name='Task-8262' coro=<WebSocketWriter.ping() done, defined at c:\\Users\\zack\\AppData\\Local\\anaconda3\\Lib\\site-packages\\aiohttp\\http_websocket.py:711> exception=ConnectionResetError('Cannot write to closing transport')>\n",
      "Traceback (most recent call last):\n",
      "  File \"c:\\Users\\zack\\AppData\\Local\\anaconda3\\Lib\\asyncio\\tasks.py\", line 314, in __step_run_and_handle_result\n",
      "    result = coro.send(None)\n",
      "             ^^^^^^^^^^^^^^^\n",
      "  File \"c:\\Users\\zack\\AppData\\Local\\anaconda3\\Lib\\site-packages\\aiohttp\\http_websocket.py\", line 715, in ping\n",
      "    await self._send_frame(message, WSMsgType.PING)\n",
      "  File \"c:\\Users\\zack\\AppData\\Local\\anaconda3\\Lib\\site-packages\\aiohttp\\http_websocket.py\", line 682, in _send_frame\n",
      "    self._write(header + message)\n",
      "  File \"c:\\Users\\zack\\AppData\\Local\\anaconda3\\Lib\\site-packages\\aiohttp\\http_websocket.py\", line 702, in _write\n",
      "    raise ConnectionResetError(\"Cannot write to closing transport\")\n",
      "ConnectionResetError: Cannot write to closing transport\n",
      "ERROR:asyncio:Task exception was never retrieved\n",
      "future: <Task finished name='Task-8263' coro=<WebSocketWriter.ping() done, defined at c:\\Users\\zack\\AppData\\Local\\anaconda3\\Lib\\site-packages\\aiohttp\\http_websocket.py:711> exception=ConnectionResetError('Cannot write to closing transport')>\n",
      "Traceback (most recent call last):\n",
      "  File \"c:\\Users\\zack\\AppData\\Local\\anaconda3\\Lib\\asyncio\\tasks.py\", line 314, in __step_run_and_handle_result\n",
      "    result = coro.send(None)\n",
      "             ^^^^^^^^^^^^^^^\n",
      "  File \"c:\\Users\\zack\\AppData\\Local\\anaconda3\\Lib\\site-packages\\aiohttp\\http_websocket.py\", line 715, in ping\n",
      "    await self._send_frame(message, WSMsgType.PING)\n",
      "  File \"c:\\Users\\zack\\AppData\\Local\\anaconda3\\Lib\\site-packages\\aiohttp\\http_websocket.py\", line 682, in _send_frame\n",
      "    self._write(header + message)\n",
      "  File \"c:\\Users\\zack\\AppData\\Local\\anaconda3\\Lib\\site-packages\\aiohttp\\http_websocket.py\", line 702, in _write\n",
      "    raise ConnectionResetError(\"Cannot write to closing transport\")\n",
      "ConnectionResetError: Cannot write to closing transport\n",
      "ERROR:asyncio:Task exception was never retrieved\n",
      "future: <Task finished name='Task-8264' coro=<WebSocketWriter.ping() done, defined at c:\\Users\\zack\\AppData\\Local\\anaconda3\\Lib\\site-packages\\aiohttp\\http_websocket.py:711> exception=ConnectionResetError('Cannot write to closing transport')>\n",
      "Traceback (most recent call last):\n",
      "  File \"c:\\Users\\zack\\AppData\\Local\\anaconda3\\Lib\\asyncio\\tasks.py\", line 314, in __step_run_and_handle_result\n",
      "    result = coro.send(None)\n",
      "             ^^^^^^^^^^^^^^^\n",
      "  File \"c:\\Users\\zack\\AppData\\Local\\anaconda3\\Lib\\site-packages\\aiohttp\\http_websocket.py\", line 715, in ping\n",
      "    await self._send_frame(message, WSMsgType.PING)\n",
      "  File \"c:\\Users\\zack\\AppData\\Local\\anaconda3\\Lib\\site-packages\\aiohttp\\http_websocket.py\", line 682, in _send_frame\n",
      "    self._write(header + message)\n",
      "  File \"c:\\Users\\zack\\AppData\\Local\\anaconda3\\Lib\\site-packages\\aiohttp\\http_websocket.py\", line 702, in _write\n",
      "    raise ConnectionResetError(\"Cannot write to closing transport\")\n",
      "ConnectionResetError: Cannot write to closing transport\n",
      "ERROR:asyncio:Task exception was never retrieved\n",
      "future: <Task finished name='Task-8265' coro=<WebSocketWriter.ping() done, defined at c:\\Users\\zack\\AppData\\Local\\anaconda3\\Lib\\site-packages\\aiohttp\\http_websocket.py:711> exception=ConnectionResetError('Cannot write to closing transport')>\n",
      "Traceback (most recent call last):\n",
      "  File \"c:\\Users\\zack\\AppData\\Local\\anaconda3\\Lib\\asyncio\\tasks.py\", line 314, in __step_run_and_handle_result\n",
      "    result = coro.send(None)\n",
      "             ^^^^^^^^^^^^^^^\n",
      "  File \"c:\\Users\\zack\\AppData\\Local\\anaconda3\\Lib\\site-packages\\aiohttp\\http_websocket.py\", line 715, in ping\n",
      "    await self._send_frame(message, WSMsgType.PING)\n",
      "  File \"c:\\Users\\zack\\AppData\\Local\\anaconda3\\Lib\\site-packages\\aiohttp\\http_websocket.py\", line 682, in _send_frame\n",
      "    self._write(header + message)\n",
      "  File \"c:\\Users\\zack\\AppData\\Local\\anaconda3\\Lib\\site-packages\\aiohttp\\http_websocket.py\", line 702, in _write\n",
      "    raise ConnectionResetError(\"Cannot write to closing transport\")\n",
      "ConnectionResetError: Cannot write to closing transport\n",
      "ERROR:asyncio:Task exception was never retrieved\n",
      "future: <Task finished name='Task-8266' coro=<WebSocketWriter.ping() done, defined at c:\\Users\\zack\\AppData\\Local\\anaconda3\\Lib\\site-packages\\aiohttp\\http_websocket.py:711> exception=ConnectionResetError('Cannot write to closing transport')>\n",
      "Traceback (most recent call last):\n",
      "  File \"c:\\Users\\zack\\AppData\\Local\\anaconda3\\Lib\\asyncio\\tasks.py\", line 314, in __step_run_and_handle_result\n",
      "    result = coro.send(None)\n",
      "             ^^^^^^^^^^^^^^^\n",
      "  File \"c:\\Users\\zack\\AppData\\Local\\anaconda3\\Lib\\site-packages\\aiohttp\\http_websocket.py\", line 715, in ping\n",
      "    await self._send_frame(message, WSMsgType.PING)\n",
      "  File \"c:\\Users\\zack\\AppData\\Local\\anaconda3\\Lib\\site-packages\\aiohttp\\http_websocket.py\", line 682, in _send_frame\n",
      "    self._write(header + message)\n",
      "  File \"c:\\Users\\zack\\AppData\\Local\\anaconda3\\Lib\\site-packages\\aiohttp\\http_websocket.py\", line 702, in _write\n",
      "    raise ConnectionResetError(\"Cannot write to closing transport\")\n",
      "ConnectionResetError: Cannot write to closing transport\n"
     ]
    }
   ],
   "source": [
    "from scipy.interpolate import griddata\n",
    "\n",
    "#-------------------------------------------------------------\n",
    "# 2) SNAPSHOT PROCESSING & RESAMPLING (with template)\n",
    "#-------------------------------------------------------------\n",
    "\n",
    "response_snap, geomX, geomY, geomZ=[],[],[],[]\n",
    "all_hull_meshes, all_uv_meshes=[],[]\n",
    "# --- Normalization containers ---\n",
    "Cp_all = []\n",
    "tau_all = [[] for _ in range(3)]  # One for each component\n",
    "\n",
    "for idx,(rid,fp) in enumerate(case_paths):\n",
    "    hull = extract_hull_mesh(fp)\n",
    "    hull = remove_hull_deck(hull)\n",
    "    hull = hull.triangulate()\n",
    "    V    = hull.points.astype(np.float64)\n",
    "    F    = hull.faces.reshape(-1,4)[:,1:].astype(np.int32)\n",
    "    \n",
    "    if \"p\" not in hull.point_data or \"tauw\" not in hull.point_data:\n",
    "        raise RuntimeError(f\"Required scalars missing in {rid}\")\n",
    "    \n",
    "    # Original scalar pressure\n",
    "    p_scalar = hull.point_data[\"p\"].astype(float)\n",
    "    tau_wall = hull.point_data[\"tauw\"].astype(float)  # shape (N, 3)\n",
    "    \n",
    "    # print ('p_scalar ', p_scalar[:100] )\n",
    "    # print ('tau_wall_0', tau_wall[0][:100])\n",
    "\n",
    "    # ---- Step to non-dimensionalize pressure ---- #\n",
    "    p_inf = 0           # freestream (or gauge) pressure\n",
    "    rho = 1025          # fluid density (e.g., seawater)\n",
    "    U = 6.1728          # reference velocity\n",
    "\n",
    "    # trying without *0.5 (for marine)\n",
    "    Cp_scalar = (p_scalar - p_inf) / (rho * U**2) # non-dimensionalized pressure\n",
    "    tau_wall_nd = tau_wall / (rho * U**2) # non-dimensionalized wall shear stress  \n",
    "    # ------------------------------------------------------ #\n",
    "\n",
    "    hull.point_data[\"Cp\"] = Cp_scalar  # store non-dimensionalized pressure\n",
    "    for i in range(3):\n",
    "        hull.point_data[f\"tau_nd_{i}\"] = tau_wall[:, i] / (0.5 * rho * U**2) # store non-dimensionalized wall shear stress components\n",
    "\n",
    "\n",
    "    # hull.point_data[\"tauw\"] = tau_wall # store wall shear stress\n",
    "    # ------------------------------------------------------ #\n",
    "\n",
    "    if UV_grid:\n",
    "        \n",
    "        # re-order boundary loop for UV mapping\n",
    "        loop_indices = get_consistent_boundary_loop(V, F)\n",
    "        loop_fixed_start = reorder_loop_start(V, loop_indices)\n",
    "        plot_ordered_boundary(V, loop_fixed_start)\n",
    "        # Use a resmpled structured UV grid for POD ()\n",
    "        UV_src = harmonic_uv(V, F, boundary_indices=loop_fixed_start, to_square=USE_SQUARE) # this version uses ordered boundary loop\n",
    "        # UV_src = harmonic_uv(V, F, USE_SQUARE)\n",
    "        # P_src = hull.point_data[\"p\"].astype(float)\n",
    "        # P_src = Cp_scalar  # Use the non-dimensionalized pressure for POD\n",
    "\n",
    "        # Interpolate pressure onto uniform UV grid\n",
    "        Cp_template = griddata(UV_src, Cp_scalar, UV_query, method='linear', fill_value=np.nan)\n",
    "        tau_templates = [\n",
    "            griddata(UV_src, tau_wall_nd[:,i], UV_query, method='linear', fill_value=np.nan)\n",
    "            for i in range(3)\n",
    "        ]\n",
    "        if predict_xyz:\n",
    "            # Interpolate also coordinates onto UV grid\n",
    "            X_template = griddata(UV_src, V[:,0], UV_query, method='linear', fill_value=np.nan)\n",
    "            Y_template = griddata(UV_src, V[:,1], UV_query, method='linear', fill_value=np.nan)\n",
    "            Z_template = griddata(UV_src, V[:,2], UV_query, method='linear', fill_value=np.nan)\n",
    "\n",
    "\n",
    "        # Handle NaNs\n",
    "        nan_mask_cp = np.isnan(Cp_template)\n",
    "        if np.any(nan_mask_cp):\n",
    "            Cp_template[nan_mask_cp] = griddata(UV_src, Cp_scalar, UV_query[nan_mask_cp], method='nearest')\n",
    "        for i in range(3):\n",
    "            nan_mask_tau = np.isnan(tau_templates[i])\n",
    "            if np.any(nan_mask_tau):\n",
    "                tau_templates[i][nan_mask_tau] = griddata(UV_src, tau_wall_nd[:, i], UV_query[nan_mask_tau], method='nearest')\n",
    "        if predict_xyz:\n",
    "            for template, coord in zip([X_template, Y_template, Z_template], [0, 1, 2]):\n",
    "                nan_mask = np.isnan(template)\n",
    "                if np.any(nan_mask):\n",
    "                    template[nan_mask] = griddata(UV_src, V[:, coord], UV_query[nan_mask], method='nearest')\n",
    "    \n",
    "        \n",
    "    else: \n",
    "        # Resample scala fields onto template UV\n",
    "        if np.array_equal(F, F0):\n",
    "            # P_template = hull.point_data[\"p\"]\n",
    "            Cp_template = Cp_scalar\n",
    "            tau_templates = [tau_wall_nd[:,i] for i in range(3)]\n",
    "            \n",
    "            if predict_xyz:\n",
    "                # Interpolate also coordinates onto UV grid\n",
    "                X_template = V[:,0]\n",
    "                Y_template = V[:,1]\n",
    "                Z_template = V[:,2]\n",
    "            print (\"here\")\n",
    "        else:\n",
    "            # re-order boundary loop for UV mapping\n",
    "            loop_indices = get_consistent_boundary_loop(V, F)\n",
    "            loop_fixed_start = reorder_loop_start(V, loop_indices)\n",
    "            plot_ordered_boundary(V, loop_fixed_start)\n",
    "            # Use the original UV mesh (first snapshot) for POD \n",
    "            UV_src = harmonic_uv(V, F, boundary_indices=loop_fixed_start, to_square=USE_SQUARE) # this version uses ordered boundary loop\n",
    "            # UV_src = harmonic_uv(V, F, USE_SQUARE)\n",
    "            tris_uv = UV_src[F]\n",
    "            cent    = tris_uv.mean(axis=1)\n",
    "            tree    = cKDTree(cent)\n",
    "            uv_min  = tris_uv.min(axis=1)\n",
    "            uv_max  = tris_uv.max(axis=1)\n",
    "            # P_src   = hull.point_data[\"p\"].astype(float)\n",
    "            # P_src = Cp_scalar  # Use the non-dimensionalized pressure for POD\n",
    "            \n",
    "            Cp_template = np.empty(len(UV0))\n",
    "            tau_templates = [np.empty(len(UV0)) for _ in range(3)]\n",
    "            if predict_xyz:\n",
    "                # Interpolate also coordinates onto UV grid\n",
    "                X_template = np.empty(len(UV0))\n",
    "                Y_template = np.empty(len(UV0))\n",
    "                Z_template = np.empty(len(UV0))\n",
    "    \n",
    "            \n",
    "            def bary(pt, a, b, c):\n",
    "                v0 = c - a; v1 = b - a; v2 = pt - a\n",
    "                d00, d01, d11 = v0 @ v0, v0 @ v1, v1 @ v1\n",
    "                d02, d12      = v0 @ v2, v1 @ v2\n",
    "                inv = 1.0/(d00*d11 - d01*d01 + 1e-15)\n",
    "                u = (d11*d02 - d01*d12)*inv\n",
    "                v = (d00*d12 - d01*d02)*inv\n",
    "                return (u >= 0 and v >= 0 and u + v <= 1), np.array([1-u-v, v, u])\n",
    "            \n",
    "            for j, pt in enumerate(UV0):\n",
    "                _, candidates = tree.query(pt, k=8, distance_upper_bound=0.2)\n",
    "                val_cp, val_tau = None, [None]*3\n",
    "                for t in candidates:\n",
    "                    if t >= len(F):\n",
    "                        continue\n",
    "                    if not ((uv_min[t] <= pt).all() and (pt <= uv_max[t]).all()):\n",
    "                        continue\n",
    "                    i0, i1, i2 = F[t]\n",
    "                    ok, w = bary(pt, UV_src[i0], UV_src[i1], UV_src[i2])\n",
    "                    if ok:\n",
    "                        val_cp = w[0]*Cp_scalar[i0] + w[1]*Cp_scalar[i1] + w[2]*Cp_scalar[i2]\n",
    "                        for i in range(3):\n",
    "                            val_tau[i] = w[0]*tau_wall_nd[i0,i] + w[1]*tau_wall_nd[i1,i] + w[2]*tau_wall_nd[i2,i]\n",
    "                        if predict_xyz:\n",
    "                            val_x = w[0]*V[i0,0] + w[1]*V[i1,0] + w[2]*V[i2,0]\n",
    "                            val_y = w[0]*V[i0,1] + w[1]*V[i1,1] + w[2]*V[i2,1]\n",
    "                            val_z = w[0]*V[i0,2] + w[1]*V[i1,2] + w[2]*V[i2,2]\n",
    "                        break\n",
    "                if val_cp is None:\n",
    "                    _, nn = tree.query(pt)\n",
    "                    val_cp = Cp_scalar[F[nn, 0]]\n",
    "                    for i in range(3):\n",
    "                        val_tau[i] = tau_wall_nd[F[nn, 0], i]\n",
    "                    if predict_xyz:\n",
    "                        val_x = V[F[nn,0],0]\n",
    "                        val_y = V[F[nn,0],1]\n",
    "                        val_z = V[F[nn,0],2]\n",
    "                        \n",
    "                Cp_template[j] = val_cp\n",
    "                for i in range(3):\n",
    "                    tau_templates[i][j] = val_tau[i]\n",
    "                if predict_xyz:\n",
    "                    X_template[j] = val_x\n",
    "                    Y_template[j] = val_y\n",
    "                    Z_template[j] = val_z\n",
    "                \n",
    "\n",
    "    # --- Assemble snapshot vector ---\n",
    "    if predict_xyz:\n",
    "        snapshot_vec = np.hstack((Cp_template, *tau_templates, X_template, Y_template, Z_template))\n",
    "        \n",
    "    else:\n",
    "        snapshot_vec = np.hstack((Cp_template, *tau_templates))\n",
    "        \n",
    "    response_snap.append(snapshot_vec)\n",
    "    \n",
    "    # Collect unnormalized values for global scaling\n",
    "    Cp_all.append(Cp_template)\n",
    "    for i in range(3):\n",
    "        tau_all[i].append(tau_templates[i])\n",
    "\n",
    "    if predict_xyz:\n",
    "        # geomX.append(V[:,0]); geomY.append(V[:,1]); geomZ.append(V[:,2])\n",
    "        geomX.append(X_template)\n",
    "        geomY.append(Y_template)\n",
    "        geomZ.append(Z_template)\n",
    "\n",
    "\n",
    "    # store for visual grid (first SNAPSHOTS_TO_SHOW)\n",
    "    if len(all_hull_meshes) <= SNAPSHOTS_TO_SHOW:\n",
    "        m3d = hull.copy()\n",
    "        # m3d.point_data[\"Cp\"] = hull.point_data[\"Cp\"][:len(V)]\n",
    "        m3d.point_data[\"Cp\"] = Cp_scalar\n",
    "        for i in range(3):\n",
    "            m3d.point_data[f\"tauw_{i}\"] = tau_wall_nd[:len(V),i]\n",
    "        all_hull_meshes.append(m3d)\n",
    "\n",
    "        if UV_grid:\n",
    "            uv_pts = np.column_stack((UV_query, np.zeros(len(UV_query))))\n",
    "            # faces_pv = []  # Using structured grid, no need for faces explicitly\n",
    "            m2d = pv.StructuredGrid(UU, VV, np.zeros_like(UU))\n",
    "        else:\n",
    "            uv_pts = np.column_stack((UV0, np.zeros(len(UV0))))\n",
    "            m2d    = pv.PolyData(uv_pts, faces_pv.copy())\n",
    "            \n",
    "        m2d.point_data[\"Cp\"] = Cp_template\n",
    "        for i in range(3):\n",
    "            m2d.point_data[f\"tauw_{i}\"] = tau_templates[i]\n",
    "        all_uv_meshes.append(m2d)\n",
    "        \n"
   ]
  },
  {
   "cell_type": "code",
   "execution_count": 33,
   "metadata": {},
   "outputs": [
    {
     "name": "stdout",
     "output_type": "stream",
     "text": [
      "(139399,)\n",
      "(139399,)\n",
      "(139399,)\n",
      "(139399,)\n",
      "(139399,)\n",
      "(139399,)\n"
     ]
    }
   ],
   "source": [
    "print (Cp_all[0].shape)\n",
    "print (Cp_all[0].shape)\n",
    "print (Cp_all[0].shape)\n",
    "\n",
    "print (geomX[0].shape)\n",
    "print (geomY[0].shape)\n",
    "print (geomZ[0].shape)"
   ]
  },
  {
   "cell_type": "code",
   "execution_count": 34,
   "metadata": {},
   "outputs": [],
   "source": [
    "# -------------------------------------------------------------\n",
    "# 3) Normalize all snapshots using global scales (each response separately)\n",
    "# -------------------------------------------------------------\n",
    "\n",
    "# predict_xyz = True  # <<< 🔥 user‑controlled flag\n",
    "\n",
    "# Stack collected fields\n",
    "Cp_all_np = np.vstack(Cp_all)  # (N_snap, N_points)\n",
    "tau_all_np = [np.vstack(tau_list) for tau_list in tau_all]  # 3 × (N_snap, N_points)\n",
    "\n",
    "if predict_xyz:\n",
    "    geomX_np = np.vstack(geomX)  # (N_snap, N_points)\n",
    "    geomY_np = np.vstack(geomY)\n",
    "    geomZ_np = np.vstack(geomZ)\n",
    "\n",
    "# Compute scaling factors\n",
    "cp_scale = np.max(np.abs(Cp_all_np)) \n",
    "tau_scales = [np.max(np.abs(tau)) for tau in tau_all_np]\n",
    "\n",
    "if predict_xyz:\n",
    "    x_scale = np.max(np.abs(geomX_np))\n",
    "    y_scale = np.max(np.abs(geomY_np))\n",
    "    z_scale = np.max(np.abs(geomZ_np))\n",
    "\n",
    "# Store all scales for later\n",
    "scales = {\n",
    "    \"Cp\": cp_scale,\n",
    "    \"tauw\": tau_scales,\n",
    "}\n",
    "if predict_xyz:\n",
    "    scales.update({\n",
    "        \"X\": x_scale,\n",
    "        \"Y\": y_scale,\n",
    "        \"Z\": z_scale,\n",
    "    })\n",
    "\n",
    "# Normalize each snapshot\n",
    "response_snap_normalized = []\n",
    "\n",
    "for snap in response_snap:\n",
    "    n = len(Cp_all[0])  # number of points per field\n",
    "    cp_part = snap[0:n] / cp_scale\n",
    "    tau_parts = [(snap[n*(i+1):n*(i+2)] / tau_scales[i]) for i in range(3)]\n",
    "    \n",
    "    if predict_xyz:\n",
    "        x_part = snap[n*4:n*5] / x_scale\n",
    "        y_part = snap[n*5:n*6] / y_scale\n",
    "        z_part = snap[n*6:n*7] / z_scale\n",
    "        snap_norm = np.hstack([cp_part] + tau_parts + [x_part, y_part, z_part])\n",
    "    else:\n",
    "        snap_norm = np.hstack([cp_part] + tau_parts)\n",
    "\n",
    "    response_snap_normalized.append(snap_norm)\n"
   ]
  },
  {
   "cell_type": "code",
   "execution_count": 72,
   "metadata": {},
   "outputs": [
    {
     "data": {
      "application/vnd.jupyter.widget-view+json": {
       "model_id": "e65d52c95f584fb294c70e918b3ccf8d",
       "version_major": 2,
       "version_minor": 0
      },
      "text/plain": [
       "Widget(value='<iframe src=\"http://localhost:51306/index.html?ui=P_0x28322211070_66&reconnect=auto\" class=\"pyvi…"
      ]
     },
     "metadata": {},
     "output_type": "display_data"
    }
   ],
   "source": [
    "# plot snapshots grid\n",
    "SNAPSHOTS_TO_SHOW=10\n",
    "plt_p=pv.Plotter(shape=(SNAPSHOTS_TO_SHOW,2),window_size=(800,200*SNAPSHOTS_TO_SHOW))\n",
    "\n",
    "for k in range(SNAPSHOTS_TO_SHOW):\n",
    "    field_view = \"Cp\"  # Change this to the desired field name\n",
    "    # clim_mesh = all_hull_meshes[k].point_data[field_view].min(), all_hull_meshes[k].point_data[\"tauw_0\"].max()\n",
    "    # clim_uv   = all_uv_meshes[k].point_data[field_view].min(), all_uv_meshes[k].point_data[field_view].max()*0\n",
    "    lo, hi = np.percentile( all_uv_meshes[k].point_data[field_view], [35, 65])  # Exclude bottom 2% and top 2%\n",
    "    plt_p.subplot(k,0)\n",
    "    plt_p.add_mesh(all_hull_meshes[k],scalars=field_view,cmap='coolwarm'); \n",
    "    plt_p.add_text(case_paths[k][0],font_size=4)\n",
    "    # plt.subplot(k,1); plt.add_mesh(all_uv_meshes[k], scalars=field_view,cmap='coolwarm'); plt.add_text(case_paths[k][0],font_size=4)\n",
    "    plt_p.add_scalar_bar(title=field_view, vertical=True, title_font_size=5, label_font_size=5)\n",
    "    plt_p.subplot(k,1)\n",
    "    plt_p.add_mesh(all_uv_meshes[k], scalars=field_view,clim=(lo, hi), cmap='coolwarm'); \n",
    "    plt_p.add_text(case_paths[k][0],font_size=4)\n",
    "    plt_p.view_xy()  # Set camera to XY plane\n",
    "    plt_p.add_scalar_bar(title=field_view, vertical=True, title_font_size=5, label_font_size=5)\n",
    "plt_p.show()\n",
    "\n",
    "\n",
    "\n",
    "# # Plot UV mesh from normalized snapshots\n",
    "# plt_uv = pv.Plotter(shape=(SNAPSHOTS_TO_SHOW, 1), window_size=(400, 200 * SNAPSHOTS_TO_SHOW))\n",
    "\n",
    "# for k in range(SNAPSHOTS_TO_SHOW):\n",
    "#     uv_pts = np.column_stack((UV0, np.zeros(len(UV0))))\n",
    "#     mesh_uv = pv.PolyData(uv_pts, faces_pv.copy())\n",
    "#     mesh_uv.point_data[\"Cp_normalized\"] = response_snap_normalized[k][:len(UV0)]\n",
    "\n",
    "#     plt_uv.subplot(k, 0)\n",
    "#     clim_uv = [-1, 1]  # Adjust color limits as needed\n",
    "#     plt_uv.add_mesh(mesh_uv, scalars=\"Cp_normalized\", clim=clim_uv, cmap=\"coolwarm\", show_edges=True)\n",
    "#     plt_uv.add_text(f\"Snapshot {k+1}\", font_size=10)\n",
    "#     plt_uv.view_xy()\n",
    "\n"
   ]
  },
  {
   "cell_type": "code",
   "execution_count": 36,
   "metadata": {},
   "outputs": [
    {
     "name": "stdout",
     "output_type": "stream",
     "text": [
      "Snapshot matrix shape: 19 127652\n",
      "(975793,)\n",
      "(139399,)\n",
      "-23.001195284336475\n"
     ]
    }
   ],
   "source": [
    "print (\"Snapshot matrix shape:\", len(response_snap), len(response_snap[0][:p_scalar.shape[0]]))\n",
    "snap_list = [arr for arr in response_snap]\n",
    "print (snap_list[1].shape)\n",
    "print (m2d.point_data[\"Cp\"].shape)\n",
    "print (response_snap[6].min())"
   ]
  },
  {
   "cell_type": "code",
   "execution_count": 151,
   "metadata": {},
   "outputs": [
    {
     "name": "stdout",
     "output_type": "stream",
     "text": [
      "POD completed: 975793 modes extracted.\n"
     ]
    }
   ],
   "source": [
    "from modred import util, pod\n",
    "\n",
    "# -------------------------------------------------------------\n",
    "# 4) POD of snapshots (optionally normalize)\n",
    "# -------------------------------------------------------------\n",
    "\n",
    "normalize_snapshots =False  # <-- set True or False depending on your experiment\n",
    "denormalize_outputs = True  # <-- set True or False depending on your experiment\n",
    "\n",
    "\n",
    "# Build snapshot matrix  X_snap : (N_snap × N_flat)\n",
    "X_snap = np.column_stack(response_snap).T#[[0, 2, 5, 6, 7, 9, 11, 15]]\n",
    "\n",
    "if normalize_snapshots:\n",
    "    # L2 normalization per snapshot\n",
    "    # l2_norms = np.linalg.norm(X_snap, axis=1, keepdims=True)\n",
    "    # X_snap_normed = X_snap / (l2_norms + 1e-12)  # add epsilon to avoid division by 0\n",
    "    X_snap_normed =  np.column_stack(response_snap_normalized).T #[[0, 2, 5, 6, 7, 9, 11, 15]]\n",
    "else:\n",
    "    X_snap_normed = X_snap  # No normalization\n",
    "\n",
    "# --- Direct POD ---\n",
    "lam, Phi, proj_coeffs, _ = pod.compute_POD_arrays_direct_method(X_snap_normed.T)\n",
    "\n",
    "S = np.sqrt(lam)           # singular values\n",
    "U = Phi                    # POD spatial modes\n",
    "coeffs_mat = proj_coeffs.T  # (N_snap × N_modes)\n",
    "\n",
    "# Keep alias for consistency\n",
    "VT = coeffs_mat.T          # (N_modes × N_snap)\n",
    "\n",
    "print(f\"POD completed: {X_snap.shape[1]} modes extracted.\")"
   ]
  },
  {
   "cell_type": "code",
   "execution_count": 152,
   "metadata": {},
   "outputs": [],
   "source": [
    "# # -------------------------------------------------------------\n",
    "# # 5)  VISUALIZE FIRST POD MODES IN UV SPACE (Structured Grid)\n",
    "# # -------------------------------------------------------------\n",
    "\n",
    "# mode_plot = pv.Plotter(shape=(MODES_TO_SHOW, 1), window_size=(450, 250 * MODES_TO_SHOW))\n",
    "\n",
    "# # Ensure UV coordinates were created from structured grid\n",
    "# nu = nv = int(np.sqrt(UV0.shape[0]))  # assuming square structured grid\n",
    "# UU = UV0[:,0].reshape(nv, nu)\n",
    "# VV = UV0[:,1].reshape(nv, nu)\n",
    "\n",
    "# for k in range(MODES_TO_SHOW):\n",
    "#     phi = U[:, k]\n",
    "#     phi_grid = phi.reshape(nv, nu)\n",
    "\n",
    "#     # Create structured grid in UV space\n",
    "#     uv_grid = pv.StructuredGrid(UU, VV, np.zeros_like(UU))\n",
    "#     uv_grid.point_data[\"mode\"] = phi_grid.flatten(order='C')\n",
    "\n",
    "#     clim = [phi.min(), phi.max()]\n",
    "\n",
    "#     mode_plot.subplot(k, 0)\n",
    "#     mode_plot.add_mesh(uv_grid, scalars=\"mode\", clim=clim, cmap=\"coolwarm\", show_edges=True)\n",
    "#     mode_plot.add_text(f\"Mode {k+1}\")\n",
    "\n",
    "# mode_plot.show()\n"
   ]
  },
  {
   "cell_type": "code",
   "execution_count": null,
   "metadata": {},
   "outputs": [
    {
     "ename": "AssertionError",
     "evalue": "POD modes size mismatch with fields!",
     "output_type": "error",
     "traceback": [
      "\u001b[1;31m---------------------------------------------------------------------------\u001b[0m",
      "\u001b[1;31mAssertionError\u001b[0m                            Traceback (most recent call last)",
      "Cell \u001b[1;32mIn[154], line 14\u001b[0m\n\u001b[0;32m     10\u001b[0m     scalar_names \u001b[38;5;241m=\u001b[39m [\u001b[38;5;124m'\u001b[39m\u001b[38;5;124mCp\u001b[39m\u001b[38;5;124m'\u001b[39m, \u001b[38;5;124m'\u001b[39m\u001b[38;5;124mtauw_0\u001b[39m\u001b[38;5;124m'\u001b[39m, \u001b[38;5;124m'\u001b[39m\u001b[38;5;124mtauw_1\u001b[39m\u001b[38;5;124m'\u001b[39m, \u001b[38;5;124m'\u001b[39m\u001b[38;5;124mtauw_2\u001b[39m\u001b[38;5;124m'\u001b[39m]\n\u001b[0;32m     12\u001b[0m num_scalars \u001b[38;5;241m=\u001b[39m \u001b[38;5;28mlen\u001b[39m(scalar_names)\n\u001b[1;32m---> 14\u001b[0m \u001b[38;5;28;01massert\u001b[39;00m U\u001b[38;5;241m.\u001b[39mshape[\u001b[38;5;241m0\u001b[39m] \u001b[38;5;241m==\u001b[39m npts \u001b[38;5;241m*\u001b[39m num_scalars, \u001b[38;5;124m\"\u001b[39m\u001b[38;5;124mPOD modes size mismatch with fields!\u001b[39m\u001b[38;5;124m\"\u001b[39m\n\u001b[0;32m     16\u001b[0m \u001b[38;5;66;03m# Plot\u001b[39;00m\n\u001b[0;32m     17\u001b[0m mode_plot \u001b[38;5;241m=\u001b[39m pv\u001b[38;5;241m.\u001b[39mPlotter(shape\u001b[38;5;241m=\u001b[39m(MODES_TO_SHOW, num_scalars), window_size\u001b[38;5;241m=\u001b[39m(\u001b[38;5;241m350\u001b[39m\u001b[38;5;241m*\u001b[39mnum_scalars, \u001b[38;5;241m250\u001b[39m\u001b[38;5;241m*\u001b[39mMODES_TO_SHOW))\n",
      "\u001b[1;31mAssertionError\u001b[0m: POD modes size mismatch with fields!"
     ]
    }
   ],
   "source": [
    "# -------------------------------------------------------------\n",
    "# 5)  VISUALISE FIRST POD MODES IN UV SPACE (per scalar field)\n",
    "# -------------------------------------------------------------\n",
    "MODES_TO_SHOW = 20  # Number of POD modes to visualize\n",
    "npts = len(UV_query) if UV_grid else len(UV0)\n",
    "\n",
    "if predict_xyz:\n",
    "    scalar_names = ['Cp', 'tauw_0', 'tauw_1', 'tauw_2', 'X', 'Y', 'Z']\n",
    "else: \n",
    "    scalar_names = ['Cp', 'tauw_0', 'tauw_1', 'tauw_2']\n",
    "    \n",
    "num_scalars = len(scalar_names)\n",
    "\n",
    "assert U.shape[0] == npts * num_scalars, \"POD modes size mismatch with fields!\"\n",
    "\n",
    "# Plot\n",
    "mode_plot = pv.Plotter(shape=(MODES_TO_SHOW, num_scalars), window_size=(350*num_scalars, 250*MODES_TO_SHOW))\n",
    "\n",
    "for mode_idx in range(MODES_TO_SHOW):\n",
    "    full_mode_vec = U[:, mode_idx]  # Full flattened mode vector\n",
    "    mode_fields = np.split(full_mode_vec, num_scalars)  # One array per scalar\n",
    "\n",
    "    for field_idx, field_vals in enumerate(mode_fields):\n",
    "        if UV_grid:\n",
    "            mesh_uv = pv.StructuredGrid(UU, VV, np.zeros_like(UU))\n",
    "        else:\n",
    "            uv_pts = np.column_stack((UV0, np.zeros(len(UV0))))\n",
    "            mesh_uv = pv.PolyData(uv_pts, faces_pv.copy())\n",
    "\n",
    "        mesh_uv.point_data[\"mode_field\"] = field_vals\n",
    "        \n",
    "        lo, hi = np.percentile((field_vals), [35, 65])\n",
    "        \n",
    "        # Setup subplot\n",
    "        mode_plot.subplot(mode_idx, field_idx)\n",
    "        mode_plot.add_mesh(mesh_uv, scalars=\"mode_field\", clim=(lo,hi), cmap=\"coolwarm\", show_edges=False)\n",
    "\n",
    "        # Text and camera\n",
    "        mode_plot.add_text(f\"Mode {mode_idx+1} - {scalar_names[field_idx]}\", font_size=8)\n",
    "        mode_plot.view_xy()\n",
    "\n",
    "mode_plot.show()\n",
    "\n"
   ]
  },
  {
   "cell_type": "code",
   "execution_count": null,
   "metadata": {},
   "outputs": [
    {
     "name": "stderr",
     "output_type": "stream",
     "text": [
      "ERROR:wslink.protocol:Exception raised\n",
      "ERROR:wslink.protocol:ConnectionError('Connection lost')\n",
      "ERROR:wslink.protocol:Traceback (most recent call last):\n",
      "  File \"c:\\Users\\zack\\AppData\\Local\\anaconda3\\Lib\\asyncio\\proactor_events.py\", line 402, in _loop_writing\n",
      "    self._write_fut = self._loop._proactor.send(self._sock, data)\n",
      "                      ^^^^^^^^^^^^^^^^^^^^^^^^^^^^^^^^^^^^^^^^^^^\n",
      "  File \"c:\\Users\\zack\\AppData\\Local\\anaconda3\\Lib\\asyncio\\windows_events.py\", line 542, in send\n",
      "    ov.WSASend(conn.fileno(), buf, flags)\n",
      "ConnectionAbortedError: [WinError 10053] An established connection was aborted by the software in your host machine\n",
      "\n",
      "The above exception was the direct cause of the following exception:\n",
      "\n",
      "Traceback (most recent call last):\n",
      "  File \"c:\\Users\\zack\\AppData\\Local\\anaconda3\\Lib\\site-packages\\wslink\\protocol.py\", line 323, in onCompleteMessage\n",
      "    await self.sendWrappedMessage(\n",
      "  File \"c:\\Users\\zack\\AppData\\Local\\anaconda3\\Lib\\site-packages\\wslink\\protocol.py\", line 427, in sendWrappedMessage\n",
      "    await ws.send_bytes(chunk)\n",
      "  File \"c:\\Users\\zack\\AppData\\Local\\anaconda3\\Lib\\site-packages\\aiohttp\\web_ws.py\", line 342, in send_bytes\n",
      "    await self._writer.send(data, binary=True, compress=compress)\n",
      "  File \"c:\\Users\\zack\\AppData\\Local\\anaconda3\\Lib\\site-packages\\aiohttp\\http_websocket.py\", line 727, in send\n",
      "    await self._send_frame(message, WSMsgType.BINARY, compress)\n",
      "  File \"c:\\Users\\zack\\AppData\\Local\\anaconda3\\Lib\\site-packages\\aiohttp\\http_websocket.py\", line 691, in _send_frame\n",
      "    await self.protocol._drain_helper()\n",
      "  File \"c:\\Users\\zack\\AppData\\Local\\anaconda3\\Lib\\site-packages\\aiohttp\\base_protocol.py\", line 95, in _drain_helper\n",
      "    await asyncio.shield(waiter)\n",
      "  File \"c:\\Users\\zack\\AppData\\Local\\anaconda3\\Lib\\asyncio\\futures.py\", line 287, in __await__\n",
      "    yield self  # This tells Task to wait for completion.\n",
      "    ^^^^^^^^^^\n",
      "  File \"c:\\Users\\zack\\AppData\\Local\\anaconda3\\Lib\\asyncio\\tasks.py\", line 385, in __wakeup\n",
      "    future.result()\n",
      "  File \"c:\\Users\\zack\\AppData\\Local\\anaconda3\\Lib\\asyncio\\futures.py\", line 203, in result\n",
      "    raise self._exception.with_traceback(self._exception_tb)\n",
      "ConnectionError: Connection lost\n",
      "\n"
     ]
    }
   ],
   "source": [
    "# # -------------------------------------------------------------\n",
    "# # 5)  VISUALISE FIRST POD MODES IN UV SPACE\n",
    "# # -------------------------------------------------------------\n",
    "\n",
    "# mode_plot = pv.Plotter(shape=(MODES_TO_SHOW,1), window_size=(450,250*MODES_TO_SHOW))\n",
    "# for k in range(MODES_TO_SHOW):\n",
    "#     phi = U[:,k]\n",
    "#     uv_pts = np.column_stack((UV0, np.zeros(len(UV0))))\n",
    "#     m = pv.PolyData(uv_pts, faces_pv.copy())\n",
    "#     m.point_data[\"mode\"] = phi\n",
    "#     # clim = [phi.min(), phi.max()]\n",
    "#     mode_plot.subplot(k,0)\n",
    "#     mode_plot.add_mesh(m, scalars=\"mode\", cmap=\"coolwarm\", show_edges=True)\n",
    "#     mode_plot.add_text(f\"Mode {k+1}\")\n",
    "# mode_plot.show()\n"
   ]
  },
  {
   "cell_type": "code",
   "execution_count": null,
   "metadata": {},
   "outputs": [
    {
     "data": {
      "image/png": "[encoded data removed]",
      "text/plain": [
       "<Figure size 1500x500 with 3 Axes>"
      ]
     },
     "metadata": {},
     "output_type": "display_data"
    }
   ],
   "source": [
    "import matplotlib.pyplot as plt\n",
    "import matplotlib.cm as cm\n",
    "import numpy as np \n",
    "\n",
    "fig2, ax2 = plt.subplots(1, 3, figsize=(15, 5))\n",
    "\n",
    "for i in range (0, 1):\n",
    "    \n",
    "    Sigma = np.array(lam ** 0.5)\n",
    "    # Create an array for mode numbers (1-based index for readability)\n",
    "    mode_ids = np.arange(1, len(Sigma) + 1)\n",
    "    # Plotting the singular values vs. modes\n",
    "    # ax1[0, i].figure(figsize=(8, 5))\n",
    "    ax2[i].plot(mode_ids, Sigma, 'o-', linewidth=2, markersize=8)\n",
    "    ax2[i].set_title(f'Singular Values vs. Modes / Batch {i+1}')\n",
    "    ax2[i].set_xlabel('Mode Number')\n",
    "    ax2[i].set_ylabel('Singular Value')\n",
    "    ax2[i].grid(True)\n",
    "    # ax1[0, i].show()\n",
    "\n",
    "plt.tight_layout()\n",
    "plt.show()"
   ]
  },
  {
   "cell_type": "code",
   "execution_count": null,
   "metadata": {},
   "outputs": [
    {
     "data": {
      "image/png": "[encoded data removed]",
      "text/plain": [
       "<Figure size 1500x500 with 3 Axes>"
      ]
     },
     "metadata": {},
     "output_type": "display_data"
    }
   ],
   "source": [
    "fig3, ax3 = plt.subplots(1, 3, figsize=(15, 5))\n",
    "\n",
    "for i in range (0, 1):\n",
    "    \n",
    "    Sigma = np.array(lam ** 0.5)\n",
    "    \n",
    "    # Create an array for mode numbers (1-based index for readability)\n",
    "    mode_ids = np.arange(1, len(Sigma) + 1)\n",
    "\n",
    "    # Calculate and plot cumulative energy\n",
    "    cumulative_energy = np.cumsum(Sigma**2) / np.sum(Sigma**2)\n",
    "    \n",
    "    # Plotting the singular values vs. modes\n",
    "    ax3[i].plot(mode_ids, cumulative_energy, 'o-', linewidth=2, markersize=8)\n",
    "    ax3[i].set_title(f'Cumulative Energy vs. Modes / Batch {i}')\n",
    "    ax3[i].set_xlabel('Mode Number')\n",
    "    ax3[i].set_ylabel('Cumulative Energy')\n",
    "    ax3[i].grid(True)\n",
    "\n",
    "plt.tight_layout()\n",
    "plt.show()"
   ]
  },
  {
   "cell_type": "code",
   "execution_count": null,
   "metadata": {},
   "outputs": [],
   "source": [
    "# # -------------------------------------------------------------\n",
    "# # 6)  IDW INTERPOLATION IN DOE SPACE  (example)\n",
    "# # -------------------------------------------------------------\n",
    "# # --- Load (or hard‑code) DOE table ---------------------------------------\n",
    "# # Columns = design parameters; rows = snapshots\n",
    "# try:\n",
    "#     DOE = np.loadtxt(\"design_matrix.csv\", delimiter=\",\")\n",
    "# except FileNotFoundError:\n",
    "#     print(\"⚠  design_matrix.csv not found – falling back to hard‑coded DOE\")\n",
    "#     DOE = np.array([\n",
    "#         [2.29   , 0.28945, 5.611 , 1.289 , -0.01323],\n",
    "#         [3.43775, 0.2429 , 5.0422, 0.132 ,  0.1657 ],\n",
    "#         [2.42125, 0.8578 , 5.8   , -0.079, -0.14753],\n",
    "#         [3.07875, 0.19495, 2.2   , 0.026 , -0.10248],\n",
    "#         [4.     , 0.3844 , 2.7688, 0.868 , -0.023678],\n",
    "#         [3.21   , 0.66835, 3.9046, -0.5  , -0.50538],\n",
    "#         [1.76375, 0.4789 , 3.1468, -0.184, -0.44517],\n",
    "#         [3.86875, 0.52615, 5.4202, 0.447 , -0.37108],\n",
    "#         [2.68375, 0.7156 , 2.5798, 0.342 ,  0.3    ],\n",
    "#         [3.73625, 0.81055, 4.0954, -0.395,  0.07645],\n",
    "#         [3.605  , 0.7633 , 4.4734, 1.5   ,  0.0314 ],\n",
    "#         [2.81625, 0.6211 , 3.7516, 1.395 , -0.55   ],\n",
    "#         [1.63125, 0.57385, 5.2312, 0.763 , -0.46033],\n",
    "#         [2.9475 , 0.14725, 3.3376, 1.184 ,  0.210325],\n",
    "#         [2.5525 , 0.1    , 4.6624, 0.237 , -0.32645],\n",
    "#         [2.1575 , 0.95275, 4.8532, 0.974 ,  0.121075],\n",
    "#         [3.245  , 1.    , 2.566 , 0.553 , -0.2814 ],\n",
    "#         [2.02625, 0.43165, 4.2844, -0.289,  0.255375],\n",
    "#         [1.895  , 0.09055, 2.389 , 0.658 , -0.192115],\n",
    "#         [1.5    , 0.3367 , 2.9578, 1.079 , -0.05785]\n",
    "#     ])\n",
    "    \n",
    "\n",
    "\n",
    "# if DOE.shape[0] != 20:\n",
    "#     raise RuntimeError(\"DOE row count does not match number of snapshots.\")\n",
    "\n",
    "# coeffs = VT.T   # (K, r)\n",
    "\n",
    "\n",
    "# # -------------------------------------------------------------\n",
    "# # 6)  RBF INTERPOLATION IN DOE SPACE  (cubic kernel)\n",
    "# # -------------------------------------------------------------\n",
    "# from scipy.interpolate import Rbf\n",
    "\n",
    "# # -------------------------------------------------------------\n",
    "# # Build one Rbf model *per POD mode* so we can predict coefficients\n",
    "# # -------------------------------------------------------------\n",
    "# rbf_models = []           # list length r\n",
    "# coords = [DOE[:, i] for i in range(DOE.shape[1])]   # separate coordinate arrays\n",
    "\n",
    "# for m in range(U.shape[1]):\n",
    "#     rbf = Rbf(*coords, coeffs_mat[:, m], function='linear')  # radial basis fn\n",
    "#     rbf_models.append(rbf)\n",
    "\n",
    "\n",
    "# def coeff_interp_rbf(p_query: np.ndarray, models):\n",
    "#     \"\"\"Evaluate all RBF models at a query design vector → coefficient vector.\"\"\"\n",
    "#     vals = [model(*p_query) for model in models]\n",
    "#     return np.array(vals)\n",
    "\n",
    "# # --- example query --------------------------------------------------------\n",
    "# new_design = np.array([2.29   , 0.28945, 5.611 , 1.289 , -0.01323])\n",
    "# coeff_pred = coeff_interp_rbf(new_design, rbf_models)\n",
    "\n",
    "# p_pred = U @ (S * coeff_pred)\n",
    "\n"
   ]
  },
  {
   "cell_type": "code",
   "execution_count": null,
   "metadata": {},
   "outputs": [
    {
     "name": "stdout",
     "output_type": "stream",
     "text": [
      "⚠  design_matrix.csv not found – falling back to hard-coded DOE\n",
      "🔵 De-normalizing predicted fields...\n"
     ]
    }
   ],
   "source": [
    "# denormalize_outputs = True  # <-- set True or False depending on your experiment\n",
    "\n",
    "# # -------------------------------------------------------------\n",
    "# # 6)  RBF INTERPOLATION IN DOE SPACE (multiple fields)\n",
    "# # -------------------------------------------------------------\n",
    "# from scipy.interpolate import Rbf\n",
    "\n",
    "# # --- Load (or hard-code) DOE ----------------------------------\n",
    "# try:\n",
    "#     DOE = np.loadtxt(\"design_matrix.csv\", delimiter=\",\")\n",
    "# except FileNotFoundError:\n",
    "#     print(\"⚠  design_matrix.csv not found – falling back to hard-coded DOE\")\n",
    "#     DOE = np.array([\n",
    "#         [2.29, 0.28945, 5.611, 1.289, -0.01323],\n",
    "#         [3.43775, 0.2429, 5.0422, 0.132, 0.1657],\n",
    "#         [2.42125, 0.8578, 5.8, -0.079, -0.14753],\n",
    "#         [3.07875, 0.19495, 2.2, 0.026, -0.10248],\n",
    "#         [4., 0.3844, 2.7688, 0.868, -0.023678],\n",
    "#         [3.21, 0.66835, 3.9046, -0.5, -0.50538],\n",
    "#         [1.76375, 0.4789, 3.1468, -0.184, -0.44517],\n",
    "#         [3.86875, 0.52615, 5.4202, 0.447, -0.37108],\n",
    "#         [2.68375, 0.7156, 2.5798, 0.342, 0.3],\n",
    "#         [3.73625, 0.81055, 4.0954, -0.395, 0.07645],\n",
    "#         [3.605, 0.7633, 4.4734, 1.5, 0.0314],\n",
    "#         [2.81625, 0.6211, 3.7516, 1.395, -0.55],\n",
    "#         [1.63125, 0.57385, 5.2312, 0.763, -0.46033],\n",
    "#         [2.9475, 0.14725, 3.3376, 1.184, 0.210325],\n",
    "#         [2.5525, 0.1, 4.6624, 0.237, -0.32645],\n",
    "#         [2.1575, 0.95275, 4.8532, 0.974, 0.121075],\n",
    "#         [3.245, 1., 2.566, 0.553, -0.2814],\n",
    "#         [2.02625, 0.43165, 4.2844, -0.289, 0.255375],\n",
    "#         [1.895, 0.09055, 2.389, 0.658, -0.192115],\n",
    "#         [1.5, 0.3367, 2.9578, 1.079, -0.05785]\n",
    "#     ])\n",
    "\n",
    "# # --- Build one RBF model per POD mode --------------------------\n",
    "# rbf_models = []\n",
    "# coords = [DOE[:, i] for i in range(DOE.shape[1])]\n",
    "\n",
    "# for m in range(U.shape[1]):\n",
    "#     rbf = Rbf(*coords, coeffs_mat[:, m], function='cubic', smooth=0)\n",
    "#     rbf_models.append(rbf)\n",
    "\n",
    "# def coeff_interp_rbf(p_query: np.ndarray, models):\n",
    "#     \"\"\"Evaluate all RBF models at a query design vector → coefficient vector.\"\"\"\n",
    "#     return np.array([model(*p_query) for model in models])\n",
    "\n",
    "# # --- example design query --------------------------------------\n",
    "# new_design = np.array([1.5, 0.3367, 2.9578, 1.079, -0.05785])\n",
    "# coeff_pred = coeff_interp_rbf(new_design, rbf_models)\n",
    "\n",
    "# # Reconstruct predicted flattened field\n",
    "# x_pred = U @ (S * coeff_pred)  # shape (N_flat,)\n",
    "\n",
    "# # Define number of points per scalar field\n",
    "# N_grid = len(UV_query) if UV_grid else len(UV0)\n",
    "\n",
    "# # Unpack slices\n",
    "# Cp_pred    = x_pred[0:N_grid]\n",
    "# tau_pred   = [x_pred[N_grid*(i+1):N_grid*(i+2)] for i in range(3)]  # tauw_0, tauw_1, tauw_2\n",
    "# x_coord_pred = x_pred[N_grid*4 : N_grid*5]\n",
    "# y_coord_pred = x_pred[N_grid*5 : N_grid*6]\n",
    "# z_coord_pred = x_pred[N_grid*6 : N_grid*7]\n",
    "\n",
    "# # -------------------------------------------------------------\n",
    "# # De-normalize if necessary\n",
    "# # -------------------------------------------------------------\n",
    "# if normalize_snapshots and denormalize_outputs:\n",
    "#     print(\"🔵 De-normalizing predicted fields...\")\n",
    "\n",
    "#     # Scalar fields\n",
    "#     Cp_pred *= cp_scale\n",
    "#     for i in range(3):\n",
    "#         tau_pred[i] *= tau_scales[i]\n",
    "\n",
    "#     # Geometry (if prediction of XYZ was enabled)\n",
    "#     if predict_xyz:\n",
    "#         x_coord_pred *= x_scale\n",
    "#         y_coord_pred *= y_scale\n",
    "#         z_coord_pred *= z_scale\n"
   ]
  },
  {
   "cell_type": "code",
   "execution_count": null,
   "metadata": {},
   "outputs": [
    {
     "name": "stdout",
     "output_type": "stream",
     "text": [
      "⚠  design_matrix.csv not found – falling back to hard-coded DOE\n"
     ]
    },
    {
     "ename": "AttributeError",
     "evalue": "'float' object has no attribute 'shape'",
     "output_type": "error",
     "traceback": [
      "\u001b[1;31m---------------------------------------------------------------------------\u001b[0m",
      "\u001b[1;31mAttributeError\u001b[0m                            Traceback (most recent call last)",
      "Cell \u001b[1;32mIn[149], line 44\u001b[0m\n\u001b[0;32m     41\u001b[0m coords \u001b[38;5;241m=\u001b[39m [DOE[:, i] \u001b[38;5;28;01mfor\u001b[39;00m i \u001b[38;5;129;01min\u001b[39;00m \u001b[38;5;28mrange\u001b[39m(DOE\u001b[38;5;241m.\u001b[39mshape[\u001b[38;5;241m1\u001b[39m])]\n\u001b[0;32m     42\u001b[0m X_doe \u001b[38;5;241m=\u001b[39m np\u001b[38;5;241m.\u001b[39mcolumn_stack(coords)  \u001b[38;5;66;03m# (N_snapshots, N_design_params)\u001b[39;00m\n\u001b[1;32m---> 44\u001b[0m \u001b[38;5;28;01mfor\u001b[39;00m m \u001b[38;5;129;01min\u001b[39;00m \u001b[38;5;28mrange\u001b[39m(U\u001b[38;5;241m.\u001b[39mshape[\u001b[38;5;241m1\u001b[39m]):\n\u001b[0;32m     45\u001b[0m     y_m \u001b[38;5;241m=\u001b[39m coeffs_mat[:, m]  \u001b[38;5;66;03m# POD coefficients for mode m\u001b[39;00m\n\u001b[0;32m     47\u001b[0m     \u001b[38;5;28;01mif\u001b[39;00m use_kriging:\n",
      "\u001b[1;31mAttributeError\u001b[0m: 'float' object has no attribute 'shape'"
     ]
    }
   ],
   "source": [
    "# -------------------------------------------------------------\n",
    "# 6)  INTERPOLATION IN DOE SPACE (RBF or Kriging)\n",
    "# -------------------------------------------------------------\n",
    "from scipy.interpolate import Rbf\n",
    "from sklearn.gaussian_process import GaussianProcessRegressor\n",
    "from sklearn.gaussian_process.kernels import RBF as GP_RBF_Kernel\n",
    "\n",
    "use_kriging = True          # <<< 🔥 Use Kriging (True) or RBF (False)\n",
    "denormalize_outputs = False    # <<< 🔥 Keep as before\n",
    "\n",
    "# --- Load (or hard-code) DOE ----------------------------------\n",
    "try:\n",
    "    DOE = np.loadtxt(\"design_matrix.csv\", delimiter=\",\")\n",
    "except FileNotFoundError:\n",
    "    print(\"⚠  design_matrix.csv not found – falling back to hard-coded DOE\")\n",
    "    DOE = np.array([\n",
    "        [2.29, 0.28945, 5.611, 1.289, -0.01323],\n",
    "        [3.43775, 0.2429, 5.0422, 0.132, 0.1657],\n",
    "        [2.42125, 0.8578, 5.8, -0.079, -0.14753],\n",
    "        [3.07875, 0.19495, 2.2, 0.026, -0.10248],\n",
    "        [4., 0.3844, 2.7688, 0.868, -0.023678],\n",
    "        [3.21, 0.66835, 3.9046, -0.5, -0.50538],\n",
    "        [1.76375, 0.4789, 3.1468, -0.184, -0.44517],\n",
    "        [3.86875, 0.52615, 5.4202, 0.447, -0.37108],\n",
    "        [2.68375, 0.7156, 2.5798, 0.342, 0.3],\n",
    "        [3.73625, 0.81055, 4.0954, -0.395, 0.07645],\n",
    "        [3.605, 0.7633, 4.4734, 1.5, 0.0314],\n",
    "        [2.81625, 0.6211, 3.7516, 1.395, -0.55],\n",
    "        [1.63125, 0.57385, 5.2312, 0.763, -0.46033],\n",
    "        [2.9475, 0.14725, 3.3376, 1.184, 0.210325],\n",
    "        [2.5525, 0.1, 4.6624, 0.237, -0.32645],\n",
    "        [2.1575, 0.95275, 4.8532, 0.974, 0.121075],\n",
    "        [3.245, 1., 2.566, 0.553, -0.2814],\n",
    "        [2.02625, 0.43165, 4.2844, -0.289, 0.255375],\n",
    "        [1.895, 0.09055, 2.389, 0.658, -0.192115],\n",
    "        # [1.5, 0.3367, 2.9578, 1.079, -0.05785]\n",
    "    ])\n",
    "\n",
    "# --- Build one interpolation model per POD mode -----------------\n",
    "interp_models = []\n",
    "coords = [DOE[:, i] for i in range(DOE.shape[1])]\n",
    "X_doe = np.column_stack(coords)  # (N_snapshots, N_design_params)\n",
    "\n",
    "for m in range(U.shape[1]):\n",
    "    y_m = coeffs_mat[:, m]  # POD coefficients for mode m\n",
    "\n",
    "    if use_kriging:\n",
    "        kernel = GP_RBF_Kernel(length_scale=np.ones(DOE.shape[1]))\n",
    "        gp = GaussianProcessRegressor(kernel=kernel, normalize_y=False)\n",
    "        gp.fit(X_doe, y_m)\n",
    "        interp_models.append(gp)\n",
    "    else:\n",
    "        rbf = Rbf(*coords, y_m, function='linear')\n",
    "        interp_models.append(rbf)\n",
    "\n",
    "# --- Function to predict coefficients ---\n",
    "def coeff_interp(design_query: np.ndarray, models):\n",
    "    \"\"\"Evaluate interpolation models at a query design vector → coefficient vector.\"\"\"\n",
    "    query = np.atleast_2d(design_query)\n",
    "\n",
    "    if use_kriging:\n",
    "        return np.array([model.predict(query)[0] for model in models])\n",
    "    else:\n",
    "        return np.array([model(*design_query) for model in models])\n",
    "\n",
    "# --- Example design query ---\n",
    "new_design = np.array([1.76375, 0.4789, 3.1468, 1.4, -1.5])\n",
    "coeff_pred = coeff_interp(new_design, interp_models)\n",
    "\n",
    "# --- Reconstruct predicted flattened field ---\n",
    "x_pred = U @ (S * coeff_pred)  # (N_flat,)\n",
    "\n",
    "\n",
    "# --- Unpack fields ---\n",
    "N_grid = len(UV_query) if UV_grid else len(UV0)\n",
    "\n",
    "Cp_pred    = x_pred[0:N_grid]\n",
    "tau_pred   = [x_pred[N_grid*(i+1):N_grid*(i+2)] for i in range(3)]\n",
    "x_coord_pred = x_pred[N_grid*4:N_grid*5]\n",
    "y_coord_pred = x_pred[N_grid*5:N_grid*6]\n",
    "z_coord_pred = x_pred[N_grid*6:N_grid*7]\n",
    "\n",
    "# --- Undo non-dimensionalization (dimensionalize results) ---\n",
    "# Use same reference values used during preprocessing\n",
    "rho = 1025       # fluid density (kg/m^3)\n",
    "U = 6.1728       # reference velocity (m/s)\n",
    "p_inf = 0        # freestream pressure (assumed 0 during non-dim)\n",
    "\n",
    "p_pred = Cp_pred * (rho * U**2) + p_inf\n",
    "tauw_pred = [tau * (rho * U**2) for tau in tau_pred]  # dimensional wall shear stress\n",
    "\n",
    "\n",
    "# --- De-normalize if needed ---\n",
    "if normalize_snapshots and denormalize_outputs:\n",
    "    print(\"🔵 De-normalizing predicted fields...\")\n",
    "    Cp_pred *= cp_scale\n",
    "    for i in range(3):\n",
    "        tau_pred[i] *= tau_scales[i]\n",
    "\n",
    "    if predict_xyz:\n",
    "        x_coord_pred *= x_scale\n",
    "        y_coord_pred *= y_scale\n",
    "        z_coord_pred *= z_scale\n"
   ]
  },
  {
   "cell_type": "code",
   "execution_count": null,
   "metadata": {},
   "outputs": [
    {
     "data": {
      "image/png": "[encoded data removed]",
      "text/plain": [
       "<Figure size 2000x600 with 1 Axes>"
      ]
     },
     "metadata": {},
     "output_type": "display_data"
    },
    {
     "data": {
      "image/png": "[encoded data removed]",
      "text/plain": [
       "<Figure size 800x600 with 1 Axes>"
      ]
     },
     "metadata": {},
     "output_type": "display_data"
    }
   ],
   "source": [
    "import matplotlib.pyplot as plt\n",
    "\n",
    "# Extract the first geometric parameter from the DOE matrix\n",
    "first_param = DOE[:, 0]\n",
    "\n",
    "# # Plot the interpolated coefficients versus the first geometric parameter\n",
    "# plt.figure(figsize=(10, 6))\n",
    "# for i, coeff in enumerate(coeff_pred):\n",
    "#     plt.plot(first_param, coeffs_mat[:, i], 'o-', label=f'Mode {i+1}')\n",
    "\n",
    "# plt.title('Interpolated Coefficients vs. First Geometric Parameter')\n",
    "# plt.xlabel('First Geometric Parameter')\n",
    "# plt.ylabel('Interpolated Coefficients')\n",
    "# plt.legend()\n",
    "# plt.grid(True)\n",
    "# plt.show()\n",
    "\n",
    "# Sort the DOE matrix and coefficients by the first parameter\n",
    "sorted_indices = np.argsort(first_param)\n",
    "first_param_sorted = first_param[sorted_indices]\n",
    "coeffs_mat_sorted = coeffs_mat[sorted_indices]\n",
    "\n",
    "# Plot the sorted interpolated coefficients versus the first geometric parameter\n",
    "plt.figure(figsize=(20, 6))\n",
    "for i, coeff in enumerate(coeff_pred):\n",
    "    plt.scatter(new_design[0], coeff_pred[i], s=50, marker='x', color='red', label=f'Mode {i+1}')\n",
    "    plt.plot(first_param_sorted, coeffs_mat_sorted[:, i], 'o-', label=f'Mode {i+1}')\n",
    "    \n",
    "\n",
    "plt.title('Interpolated Coefficients vs. First Geometric Parameter (Sorted)')\n",
    "plt.xlabel('First Geometric Parameter')\n",
    "plt.ylabel('Interpolated Coefficients')\n",
    "plt.legend()\n",
    "plt.grid(True)\n",
    "plt.show()\n",
    "\n",
    "# Scatter plot of the DOE table (first two dimensions)\n",
    "plt.figure(figsize=(8, 6))\n",
    "plt.scatter(DOE[:, 0], DOE[:, 1], c='blue', edgecolor='k', s=50)\n",
    "plt.title('Scatter Plot of DOE Table (First Two Dimensions)')\n",
    "plt.xlabel('First Dimension')\n",
    "plt.ylabel('Second Dimension')\n",
    "plt.grid(True)\n",
    "plt.show()"
   ]
  },
  {
   "cell_type": "code",
   "execution_count": null,
   "metadata": {},
   "outputs": [
    {
     "name": "stdout",
     "output_type": "stream",
     "text": [
      "p_pred (139399,)\n",
      "tau_0 (139399,)\n",
      "tau_1 (139399,)\n",
      "tau_2 (139399,)\n"
     ]
    },
    {
     "data": {
      "application/vnd.jupyter.widget-view+json": {
       "model_id": "a403a635b716452d852b03fd7ddb13d5",
       "version_major": 2,
       "version_minor": 0
      },
      "text/plain": [
       "Widget(value='<iframe src=\"http://localhost:51306/index.html?ui=P_0x283f044eb10_83&reconnect=auto\" class=\"pyvi…"
      ]
     },
     "metadata": {},
     "output_type": "display_data"
    }
   ],
   "source": [
    "# -------------------------------------------------------------\n",
    "# 7) Build and visualise predicted hull (for multiple fields)\n",
    "# -------------------------------------------------------------\n",
    "\n",
    "predict_xyz = False    \n",
    "\n",
    "\n",
    "# Build a dictionary of predicted scalar fields\n",
    "pred_fields = {\n",
    "    \"Cp\": Cp_pred,\n",
    "    \"tauw_0\": tau_pred[0],\n",
    "    \"tauw_1\": tau_pred[1],\n",
    "    \"tauw_2\": tau_pred[2],\n",
    "}\n",
    "\n",
    "# Optional: re-dimensionalized\n",
    "pred_fields_dim = {\n",
    "    \"p_pred\": p_pred,\n",
    "    \"tau_0\": tauw_pred[0],\n",
    "    \"tau_1\": tauw_pred[1],\n",
    "    \"tau_2\": tauw_pred[2],\n",
    "}\n",
    "\n",
    "# Stack predicted XYZ coordinates\n",
    "if predict_xyz:\n",
    "    predicted_XYZ = np.column_stack((x_coord_pred, y_coord_pred, z_coord_pred))  # (N_grid, 3)\n",
    "\n",
    "# -------------------------------------------------------------\n",
    "# Create UV prediction mesh (Structured or Unstructured)\n",
    "# -------------------------------------------------------------\n",
    "if UV_grid:\n",
    "    uv_pred = pv.StructuredGrid(UU, VV, np.zeros_like(UU))\n",
    "else:\n",
    "    uv_pts = np.column_stack((UV0, np.zeros(len(UV0))))\n",
    "    uv_pred = pv.PolyData(uv_pts, faces_pv.copy())\n",
    "\n",
    "# for name, data in pred_fields.items():\n",
    "#     uv_pred.point_data[name] = data\n",
    "    \n",
    "for name, data in pred_fields_dim.items():\n",
    "    uv_pred.point_data[name] = data\n",
    "\n",
    "# -------------------------------------------------------------\n",
    "# Create 3D prediction mesh\n",
    "# -------------------------------------------------------------\n",
    "if UV_grid:\n",
    "    mesh_pred = pv.PolyData(V0.copy(), faces_pv.copy())  # Base mesh: original points (V0)\n",
    "\n",
    "    for name, data in pred_fields.items():\n",
    "        interp_data = griddata(UV_query, data, UV0, method='cubic')\n",
    "        nan_idx = np.isnan(interp_data)\n",
    "        if np.any(nan_idx):\n",
    "            interp_data[nan_idx] = griddata(UV_query, data, UV0[nan_idx], method='nearest')\n",
    "        mesh_pred.point_data[name] = interp_data\n",
    "\n",
    "    if predict_xyz:\n",
    "        pred_X = griddata(UV_query, predicted_XYZ[:, 0], UV0, method='cubic')\n",
    "        pred_Y = griddata(UV_query, predicted_XYZ[:, 1], UV0, method='cubic')\n",
    "        pred_Z = griddata(UV_query, predicted_XYZ[:, 2], UV0, method='cubic')\n",
    "\n",
    "        nan_X = np.isnan(pred_X)\n",
    "        nan_Y = np.isnan(pred_Y)\n",
    "        nan_Z = np.isnan(pred_Z)\n",
    "        if np.any(nan_X): pred_X[nan_X] = griddata(UV_query, predicted_XYZ[:,0], UV0[nan_X], method='nearest')\n",
    "        if np.any(nan_Y): pred_Y[nan_Y] = griddata(UV_query, predicted_XYZ[:,1], UV0[nan_Y], method='nearest')\n",
    "        if np.any(nan_Z): pred_Z[nan_Z] = griddata(UV_query, predicted_XYZ[:,2], UV0[nan_Z], method='nearest')\n",
    "\n",
    "        # Replace geometry\n",
    "        mesh_pred.points = np.column_stack((pred_X, pred_Y, pred_Z))\n",
    "\n",
    "else:\n",
    "    if predict_xyz:\n",
    "        mesh_pred = pv.PolyData(predicted_XYZ.copy(), faces_pv.copy())\n",
    "    else:\n",
    "        mesh_pred = pv.PolyData(V0.copy(), faces_pv.copy())\n",
    "\n",
    "    for name, data in pred_fields_dim.items():\n",
    "        print (name, data.shape)\n",
    "        mesh_pred.point_data[name] = data\n",
    "\n",
    "# -------------------------------------------------------------\n",
    "# Visualise all predicted scalar fields\n",
    "# -------------------------------------------------------------\n",
    "plt2_p = pv.Plotter(shape=(1, 2), window_size=(900, 300*1))\n",
    "\n",
    "plt2_p.subplot(0, 0)\n",
    "# clim_3d_pred = [0,200]\n",
    "plt2_p.add_mesh(mesh_pred, scalars='p_pred', cmap=\"coolwarm\", show_edges=False)\n",
    "plt2_p.add_text(f\"Predicted 3D hull: {name}\")\n",
    "\n",
    "plt2_p.subplot(0, 1)\n",
    "# clim_uv_pred = [0, 0.0001]  # Static color limit (optional you can automate)\n",
    "plt2_p.add_mesh(uv_pred, scalars='p_pred', cmap=\"coolwarm\", show_edges=False)\n",
    "plt2_p.add_text(f\"Predicted UV map: {name}\")\n",
    "plt2_p.view_xy()  # Always XY view\n",
    "\n",
    "plt2_p.show()\n",
    "\n",
    "\n",
    "#TODO: geometry of hull is parasolid and then stl \n",
    "\n"
   ]
  },
  {
   "cell_type": "code",
   "execution_count": null,
   "metadata": {},
   "outputs": [
    {
     "data": {
      "application/vnd.jupyter.widget-view+json": {
       "model_id": "773d983f7f114625a02ecd62022abc01",
       "version_major": 2,
       "version_minor": 0
      },
      "text/plain": [
       "Widget(value='<iframe src=\"http://localhost:51306/index.html?ui=P_0x283a7e878f0_82&reconnect=auto\" class=\"pyvi…"
      ]
     },
     "metadata": {},
     "output_type": "display_data"
    },
    {
     "name": "stdout",
     "output_type": "stream",
     "text": [
      "Maximum Cp value: 33.922027990132676\n",
      "Minimum Cp value: -0.20336326231528226\n"
     ]
    }
   ],
   "source": [
    "\n",
    "# -------------------------------------------------------------\n",
    "# Visualise all predicted scalar fields\n",
    "# -------------------------------------------------------------\n",
    "plt2 = pv.Plotter(shape=(len(pred_fields), 2), window_size=(900, 300*len(pred_fields)))\n",
    "\n",
    "for i, (name, _) in enumerate(pred_fields_dim.items()):\n",
    "    \n",
    "    if name!=\"Cp\":\n",
    "        plt2.subplot(i, 0)\n",
    "        # clim_3d_pred = [0,200]\n",
    "        plt2.add_mesh(mesh_pred, scalars=name, cmap=\"coolwarm\", show_edges=False)\n",
    "        plt2.add_text(f\"Predicted 3D hull: {name}\")\n",
    "\n",
    "        plt2.subplot(i, 1)\n",
    "        # clim_uv_pred = [0, 0.0001]  # Static color limit (optional you can automate)\n",
    "        plt2.add_mesh(uv_pred, scalars=name, cmap=\"coolwarm\", show_edges=False)\n",
    "        plt2.add_text(f\"Predicted UV map: {name}\")\n",
    "        plt2.view_xy()  # Always XY view\n",
    "\n",
    "plt2.show()\n",
    "\n",
    "# -------------------------------------------------------------\n",
    "# Print scalar field summaries\n",
    "# -------------------------------------------------------------\n",
    "print(f\"Maximum Cp value: {pred_fields['tauw_0'].max()}\")\n",
    "print(f\"Minimum Cp value: {pred_fields['tauw_0'].min()}\")"
   ]
  },
  {
   "cell_type": "code",
   "execution_count": null,
   "metadata": {},
   "outputs": [
    {
     "data": {
      "image/png": "[encoded data removed]",
      "text/plain": [
       "<Figure size 640x480 with 1 Axes>"
      ]
     },
     "metadata": {},
     "output_type": "display_data"
    }
   ],
   "source": [
    "import matplotlib.pyplot as plt\n",
    "\n",
    "# Plot predicted vs training coefficients for first few modes\n",
    "fig, ax = plt.subplots()\n",
    "ax.plot(np.arange(len(coeffs_mat[:,0])), coeffs_mat[:,0], 'o-', label='Training coeffs (mode 1)')\n",
    "ax.axhline(y=coeff_pred[0], color='r', linestyle='--', label='Predicted coeff (mode 1)')\n",
    "ax.set_xlabel('DOE snapshot index')\n",
    "ax.set_ylabel('POD coeff')\n",
    "ax.legend()\n",
    "plt.show()\n",
    "\n"
   ]
  },
  {
   "cell_type": "code",
   "execution_count": null,
   "metadata": {},
   "outputs": [
    {
     "ename": "NameError",
     "evalue": "name 'p_pred' is not defined",
     "output_type": "error",
     "traceback": [
      "\u001b[1;31m---------------------------------------------------------------------------\u001b[0m",
      "\u001b[1;31mNameError\u001b[0m                                 Traceback (most recent call last)",
      "Cell \u001b[1;32mIn[52], line 38\u001b[0m\n\u001b[0;32m     36\u001b[0m \u001b[38;5;28;01melse\u001b[39;00m:\n\u001b[0;32m     37\u001b[0m     mesh_pred \u001b[38;5;241m=\u001b[39m pv\u001b[38;5;241m.\u001b[39mPolyData(V0, faces_pv)\n\u001b[1;32m---> 38\u001b[0m     mesh_pred\u001b[38;5;241m.\u001b[39mpoint_data[\u001b[38;5;124m\"\u001b[39m\u001b[38;5;124mp_pred\u001b[39m\u001b[38;5;124m\"\u001b[39m] \u001b[38;5;241m=\u001b[39m p_pred\n\u001b[0;32m     39\u001b[0m     uv_pred   \u001b[38;5;241m=\u001b[39m pv\u001b[38;5;241m.\u001b[39mPolyData(np\u001b[38;5;241m.\u001b[39mcolumn_stack((UV0, np\u001b[38;5;241m.\u001b[39mzeros(\u001b[38;5;28mlen\u001b[39m(UV0)))), faces_pv\u001b[38;5;241m.\u001b[39mcopy())\n\u001b[0;32m     40\u001b[0m     uv_pred\u001b[38;5;241m.\u001b[39mpoint_data[\u001b[38;5;124m\"\u001b[39m\u001b[38;5;124mp_pred\u001b[39m\u001b[38;5;124m\"\u001b[39m] \u001b[38;5;241m=\u001b[39m p_pred\n",
      "\u001b[1;31mNameError\u001b[0m: name 'p_pred' is not defined"
     ]
    }
   ],
   "source": [
    "# # 7)  Build and visualise predicted hull ----------------------------------\n",
    "\n",
    "\n",
    "# if UV_grid:\n",
    "\n",
    "#     # # p_pred shape must match UV_query (structured grid points, len=10000)\n",
    "#     # # UV_query: structured grid (10000 points)\n",
    "#     # # UV0: original mesh harmonic UV points (121961 points)\n",
    "\n",
    "#     # # Cubic interpolation onto original mesh UV points\n",
    "#     # p_pred_on_V0 = griddata(UV_query, p_pred, UV0, method='cubic')\n",
    "\n",
    "#     # # Handle any points outside convex hull\n",
    "#     # nan_indices = np.isnan(p_pred_on_V0)\n",
    "#     # if np.any(nan_indices):\n",
    "#     #     p_pred_on_V0[nan_indices] = griddata(UV_query, p_pred, UV0[nan_indices], method='nearest')\n",
    "\n",
    "#     # # Check lengths explicitly\n",
    "#     # print(\"Length of V0 points:\", len(V0))\n",
    "#     # print(\"Length of interpolated p_pred_on_V0:\", len(p_pred_on_V0))\n",
    "\n",
    "#     # # Ensure no NaNs remain\n",
    "#     # assert not np.any(np.isnan(p_pred_on_V0)), \"Interpolation still contains NaNs!\"\n",
    "\n",
    "#     # # Faces definition for PyVista (important!)\n",
    "#     # faces_pv = np.hstack((np.full((F0.shape[0], 1), 3), F0)).astype(np.int64)\n",
    "\n",
    "#     # # Construct final mesh\n",
    "#     # mesh_pred = pv.PolyData(V0, faces_pv)\n",
    "\n",
    "#     # # Add scalar field correctly\n",
    "#     # mesh_pred.point_data[\"p_pred\"] = p_pred_on_V0\n",
    "\n",
    "#     uv_pred = pv.StructuredGrid(UU, VV, np.zeros_like(UU))\n",
    "#     uv_pred.point_data[\"p_pred\"] = p_pred\n",
    "# else:\n",
    "#     mesh_pred = pv.PolyData(V0, faces_pv)\n",
    "#     mesh_pred.point_data[\"p_pred\"] = p_pred\n",
    "#     uv_pred   = pv.PolyData(np.column_stack((UV0, np.zeros(len(UV0)))), faces_pv.copy())\n",
    "#     uv_pred.point_data[\"p_pred\"] = p_pred\n",
    "\n",
    "# plt2 = pv.Plotter(shape=(1, 2))\n",
    "# plt2.subplot(0, 0)\n",
    "# plt2.add_mesh(mesh_pred, scalars=\"p_pred\", cmap=\"coolwarm\", show_edges=False)\n",
    "# plt2.add_text(\"Predicted 3‑D hull (p_pred)\")\n",
    "# plt2.subplot(0, 1)\n",
    "# # clim = [-0.1,0.1]\n",
    "# clim = uv_pred.point_data[\"p_pred\"].min(), uv_pred.point_data[\"p_pred\"].max()\n",
    "# plt2.add_mesh(uv_pred, scalars=\"p_pred\", clim=clim, cmap=\"coolwarm\", show_edges=True)\n",
    "# plt2.add_text(\"Predicted UV (p_pred)\")\n",
    "# plt2.show()\n",
    "\n",
    "# # TODO: need to check prediction of XYZ points, need to check why rotation is happening - probably due to cutting off the top of the hull"
   ]
  },
  {
   "cell_type": "code",
   "execution_count": null,
   "metadata": {},
   "outputs": [],
   "source": [
    "uv_pred = pv.StructuredGrid(UU, VV, np.zeros_like(UU))\n",
    "uv_pred.point_data[\"p_pred\"] = p_pred"
   ]
  },
  {
   "cell_type": "code",
   "execution_count": null,
   "metadata": {},
   "outputs": [],
   "source": []
  },
  {
   "cell_type": "code",
   "execution_count": null,
   "metadata": {},
   "outputs": [
    {
     "ename": "IndexError",
     "evalue": "list index out of range",
     "output_type": "error",
     "traceback": [
      "\u001b[1;31m---------------------------------------------------------------------------\u001b[0m",
      "\u001b[1;31mIndexError\u001b[0m                                Traceback (most recent call last)",
      "Cell \u001b[1;32mIn[19], line 5\u001b[0m\n\u001b[0;32m      2\u001b[0m plt\u001b[38;5;241m=\u001b[39mpv\u001b[38;5;241m.\u001b[39mPlotter(shape\u001b[38;5;241m=\u001b[39m(\u001b[38;5;241m1\u001b[39m,\u001b[38;5;241m2\u001b[39m),window_size\u001b[38;5;241m=\u001b[39m(\u001b[38;5;241m800\u001b[39m,\u001b[38;5;241m200\u001b[39m\u001b[38;5;241m*\u001b[39m\u001b[38;5;241m1\u001b[39m))\n\u001b[0;32m      4\u001b[0m \u001b[38;5;28;01mfor\u001b[39;00m k \u001b[38;5;129;01min\u001b[39;00m \u001b[38;5;28mrange\u001b[39m(\u001b[38;5;241m20\u001b[39m,\u001b[38;5;241m21\u001b[39m):\n\u001b[1;32m----> 5\u001b[0m     clim_mesh \u001b[38;5;241m=\u001b[39m all_hull_meshes[k]\u001b[38;5;241m.\u001b[39mpoint_data[\u001b[38;5;124m\"\u001b[39m\u001b[38;5;124mp\u001b[39m\u001b[38;5;124m\"\u001b[39m]\u001b[38;5;241m.\u001b[39mmin(), all_hull_meshes[k]\u001b[38;5;241m.\u001b[39mpoint_data[\u001b[38;5;124m\"\u001b[39m\u001b[38;5;124mp\u001b[39m\u001b[38;5;124m\"\u001b[39m]\u001b[38;5;241m.\u001b[39mmax()\n\u001b[0;32m      6\u001b[0m     clim_uv   \u001b[38;5;241m=\u001b[39m all_uv_meshes[k]\u001b[38;5;241m.\u001b[39mpoint_data[\u001b[38;5;124m\"\u001b[39m\u001b[38;5;124mp\u001b[39m\u001b[38;5;124m\"\u001b[39m]\u001b[38;5;241m.\u001b[39mmin(), all_uv_meshes[k]\u001b[38;5;241m.\u001b[39mpoint_data[\u001b[38;5;124m\"\u001b[39m\u001b[38;5;124mp\u001b[39m\u001b[38;5;124m\"\u001b[39m]\u001b[38;5;241m.\u001b[39mmax()\n\u001b[0;32m      7\u001b[0m     plt\u001b[38;5;241m.\u001b[39msubplot(k,\u001b[38;5;241m0\u001b[39m); plt\u001b[38;5;241m.\u001b[39madd_mesh(all_hull_meshes[k], clim\u001b[38;5;241m=\u001b[39mclim_mesh, scalars\u001b[38;5;241m=\u001b[39m\u001b[38;5;124m'\u001b[39m\u001b[38;5;124mp\u001b[39m\u001b[38;5;124m'\u001b[39m,cmap\u001b[38;5;241m=\u001b[39m\u001b[38;5;124m'\u001b[39m\u001b[38;5;124mcoolwarm\u001b[39m\u001b[38;5;124m'\u001b[39m); plt\u001b[38;5;241m.\u001b[39madd_text(case_paths[k][\u001b[38;5;241m0\u001b[39m])\n",
      "\u001b[1;31mIndexError\u001b[0m: list index out of range"
     ]
    }
   ],
   "source": [
    "# plot snapshots grid\n",
    "plt=pv.Plotter(shape=(1,2),window_size=(800,200*1))\n",
    "\n",
    "for k in range(1):\n",
    "    clim_mesh = all_hull_meshes[k].point_data[\"p\"].min(), all_hull_meshes[k].point_data[\"p\"].max()\n",
    "    clim_uv   = all_uv_meshes[k].point_data[\"p\"].min(), all_uv_meshes[k].point_data[\"p\"].max()\n",
    "    plt.subplot(k,0); plt.add_mesh(all_hull_meshes[k], clim=clim_mesh, scalars='p',cmap='coolwarm'); plt.add_text(case_paths[k][0])\n",
    "    plt.subplot(k,1); plt.add_mesh(all_uv_meshes[k], clim = clim_uv, scalars='p',cmap='coolwarm'); plt.add_text(case_paths[k][0])\n",
    "plt.show()"
   ]
  },
  {
   "cell_type": "code",
   "execution_count": null,
   "metadata": {},
   "outputs": [
    {
     "name": "stderr",
     "output_type": "stream",
     "text": [
      "<>:1: SyntaxWarning: invalid escape sequence '\\Z'\n",
      "<>:1: SyntaxWarning: invalid escape sequence '\\Z'\n",
      "C:\\Users\\zack\\AppData\\Local\\Temp\\ipykernel_34764\\2831916729.py:1: SyntaxWarning: invalid escape sequence '\\Z'\n",
      "  file = \"Z:\\Zack\\Data\\Incoming\\Cat_parametric_study\\High_Fidelity\\RUN001\\case.foam\"\n",
      "ERROR:root:Input for connection index 0 on input port index 0 for algorithm vtkFeatureEdges (0000026E97344A70) is of type vtkUnstructuredGrid, but a vtkPolyData is required.\n"
     ]
    },
    {
     "name": "stdout",
     "output_type": "stream",
     "text": [
      "Non-manifold edge count: 0\n"
     ]
    }
   ],
   "source": [
    "file = \"Z:\\Zack\\Data\\Incoming\\Cat_parametric_study\\High_Fidelity\\RUN001\\case.foam\"\n",
    "# case_paths = [(f\"RUN{i:03d}\", os.path.join(BASE_DIR, f\"RUN{i:03d}\", \"case.foam\"))\n",
    "#               for i in RUN_RANGE if os.path.exists(os.path.join(BASE_DIR, f\"RUN{i:03d}\", \"case.foam\"))]\n",
    "# if not case_paths:\n",
    "#     sys.exit(\"No .foam files found – check BASE_DIR.\")\n",
    "\n",
    "# # template build\n",
    "# run0, foam0 = case_paths[0]\n",
    "hull_ = extract_hull_mesh(file)\n"
   ]
  },
  {
   "cell_type": "code",
   "execution_count": null,
   "metadata": {},
   "outputs": [
    {
     "data": {
      "application/vnd.jupyter.widget-view+json": {
       "model_id": "c6d416f3fdb3423db3015b7cf31b4c7c",
       "version_major": 2,
       "version_minor": 0
      },
      "text/plain": [
       "Widget(value='<iframe src=\"http://localhost:51790/index.html?ui=P_0x26f12ba1b50_18&reconnect=auto\" class=\"pyvi…"
      ]
     },
     "metadata": {},
     "output_type": "display_data"
    }
   ],
   "source": [
    "\n",
    "# Plot original hull with boundary overlay\n",
    "p = pv.Plotter()\n",
    "p.add_mesh(pv.wrap(hull_), scalars=\"p\", cmap='coolwarm', opacity=0.9, show_edges=True)\n",
    "p.show()\n"
   ]
  },
  {
   "cell_type": "code",
   "execution_count": null,
   "metadata": {},
   "outputs": [
    {
     "name": "stdout",
     "output_type": "stream",
     "text": [
      "⚠️ Some normals point inward!\n"
     ]
    },
    {
     "data": {
      "application/vnd.jupyter.widget-view+json": {
       "model_id": "ec7ce8eec7de4a6c962aa53ce2a4c818",
       "version_major": 2,
       "version_minor": 0
      },
      "text/plain": [
       "Widget(value='<iframe src=\"http://localhost:51790/index.html?ui=P_0x26eb8cded20_19&reconnect=auto\" class=\"pyvi…"
      ]
     },
     "metadata": {},
     "output_type": "display_data"
    }
   ],
   "source": [
    "cleaned_hull = remove_hull_deck(hull_)\n",
    "# Plot original hull with boundary overlay\n",
    "p = pv.Plotter()\n",
    "p.add_mesh(pv.wrap(cleaned_hull),scalars=\"p\", cmap='coolwarm',  opacity=0.9, show_edges=True)\n",
    "p.show()\n",
    "\n"
   ]
  },
  {
   "cell_type": "code",
   "execution_count": null,
   "metadata": {},
   "outputs": [],
   "source": [
    "import pyvista as pv\n",
    "import numpy as np\n",
    "\n",
    "def remove_skewed_triangles(tri_mesh, max_aspect_ratio=1):\n",
    "    # Ensure triangulated\n",
    "    # tri_mesh = mesh.triangulate()\n",
    "\n",
    "    # Get faces (n_triangles, 3)\n",
    "    faces = tri_mesh.cells.reshape(-1, 4)[:, 1:]\n",
    "    points = tri_mesh.points\n",
    "\n",
    "    good_cells = []\n",
    "    for i, (a, b, c) in enumerate(faces):\n",
    "        A, B, C = points[a], points[b], points[c]\n",
    "\n",
    "        # Compute edge lengths\n",
    "        ab = np.linalg.norm(A - B)\n",
    "        bc = np.linalg.norm(B - C)\n",
    "        ca = np.linalg.norm(C - A)\n",
    "\n",
    "        lengths = np.array([ab, bc, ca])\n",
    "        max_len = lengths.max()\n",
    "        min_len = lengths.min()\n",
    "\n",
    "        if min_len == 0:\n",
    "            continue\n",
    "\n",
    "        aspect_ratio = max_len / min_len\n",
    "        if aspect_ratio < max_aspect_ratio:\n",
    "            good_cells.append(i)\n",
    "\n",
    "    # Extract non-skewed triangles\n",
    "    return tri_mesh.extract_cells(good_cells)\n",
    "\n",
    "\n",
    "def all_mesh_edges(faces):\n",
    "    edges = set()\n",
    "    for tri in faces:\n",
    "        a, b, c = tri\n",
    "        for u, v in [(a, b), (b, c), (c, a)]:\n",
    "            edge = tuple(sorted((u, v)))\n",
    "            if edge in edges:\n",
    "                edges.remove(edge)  # Remove if already exists (internal edge)\n",
    "            else:\n",
    "                edges.add(edge)     # Add new edge\n",
    "    return edges\n",
    "\n",
    "import numpy as np\n",
    "import pyvista as pv\n",
    "\n",
    "def flip_inward_normals(mesh: pv.PolyData, verbose=True) -> pv.PolyData:\n",
    "    \"\"\"\n",
    "    Detects and flips only the faces with inward-pointing normals in a PyVista mesh.\n",
    "\n",
    "    Parameters:\n",
    "    - mesh (pv.PolyData): The input triangle surface mesh\n",
    "    - verbose (bool): If True, prints diagnostics\n",
    "\n",
    "    Returns:\n",
    "    - pv.PolyData: The mesh with corrected face windings\n",
    "    \"\"\"\n",
    "    mesh = mesh.extract_surface()\n",
    "    mesh = mesh.compute_normals(cell_normals=True, point_normals=False, auto_orient_normals=True)\n",
    "\n",
    "    normals = mesh.cell_data[\"Normals\"]\n",
    "    centers = mesh.cell_centers().points\n",
    "    center = mesh.center\n",
    "\n",
    "    # Check if normals point outward from the center\n",
    "    directions = centers - center\n",
    "    dot_signs = np.einsum(\"ij,ij->i\", normals, directions)\n",
    "    flip_ids = np.where(dot_signs < 0)[0]\n",
    "\n",
    "    if verbose:\n",
    "        print(f\"🔎 Found {len(flip_ids)} inward-facing faces to flip.\")\n",
    "\n",
    "    if len(flip_ids) == 0:\n",
    "        return mesh\n",
    "\n",
    "    # Flip triangle winding for these faces\n",
    "    faces = mesh.faces.reshape(-1, 4).copy()\n",
    "    faces[flip_ids, [1, 3]] = faces[flip_ids, [3, 1]]  # Swap vertices\n",
    "\n",
    "    flipped_mesh = pv.PolyData(mesh.points, faces)\n",
    "    flipped_mesh = flipped_mesh.clean()  # Optional cleanup\n",
    "    flipped_mesh = flipped_mesh.compute_normals(cell_normals=True, point_normals=False, auto_orient_normals=False)\n",
    "\n",
    "    return flipped_mesh\n",
    "\n",
    "\n"
   ]
  },
  {
   "cell_type": "code",
   "execution_count": null,
   "metadata": {
    "vscode": {
     "languageId": "ruby"
    }
   },
   "outputs": [
    {
     "name": "stdout",
     "output_type": "stream",
     "text": [
      "Hello, world!\n"
     ]
    },
    {
     "data": {
      "application/vnd.jupyter.widget-view+json": {
       "model_id": "8056c664f6f943118ddc680b06689f93",
       "version_major": 2,
       "version_minor": 0
      },
      "text/plain": [
       "Widget(value='<iframe src=\"http://localhost:51790/index.html?ui=P_0x26eb9f434d0_15&reconnect=auto\" class=\"pyvi…"
      ]
     },
     "metadata": {},
     "output_type": "display_data"
    }
   ],
   "source": [
    "print ('Hello, world!')\n",
    "\n",
    "# # 1. Extract surface\n",
    "# hull_surface = hull.extract_surface()\n",
    "\n",
    "# cleaned_hull = remove_hull_deck(hull_, False)\n",
    "# cleaned_hull = cleaned_hull.remove_degenerate_cells()\n",
    "\n",
    "#=======================================================\n",
    "# cleaned_hull = cleaned_hull.clean(tolerance=1e-9)\n",
    "\n",
    "# # Thise is important\n",
    "cleaned_hull = cleaned_hull.triangulate()\n",
    "# cleaned_hull = cleaned_hull.connectivity()\n",
    "# cleaned_hull = cleaned_hull.extract_surface().fill_holes(hole_size=1000)\n",
    "\n",
    "\n",
    "# cleaned_hull[\"Area\"] = cleaned_hull.compute_cell_sizes()[\"Area\"]\n",
    "# areas = cleaned_hull.compute_cell_sizes()[\"Area\"]\n",
    "# # area_threshold = 0.00000000001 * np.mean(areas)  # or use np.median\n",
    "# cleaned_hull = cleaned_hull.threshold(value=1e-7, scalars=\"Area\").clean(tolerance=1e-5) #TODO: this seems to solve missing boundary loop\n",
    "# # cleaned_hull = cleaned_hull.threshold(value=area_threshold, scalars=\"Area\")\n",
    "\n",
    "# measures = ['area', 'shape', 'min_angle', 'max_angle']\n",
    "# cleaned_hull_quality = cleaned_hull.compute_cell_quality('max_angle')  # Use cell_quality directly on cleaned_hull\n",
    "# qualities = cleaned_hull_quality.cell_data[\"CellQuality\"]\n",
    "\n",
    "#=======================================================\n",
    "# # Check for non-manifold edges\n",
    "# feature_edges = vtk.vtkFeatureEdges()\n",
    "# feature_edges.SetInputData(cleaned_hull)\n",
    "# feature_edges.BoundaryEdgesOn()\n",
    "# feature_edges.NonManifoldEdgesOn()\n",
    "# feature_edges.ManifoldEdgesOff()\n",
    "# feature_edges.FeatureEdgesOff()\n",
    "# feature_edges.Update()\n",
    "# nonmanifold_edges = feature_edges.GetOutput()\n",
    "# print(\"Non-manifold edge count:\", nonmanifold_edges.GetNumberOfCells())\n",
    "\n",
    "F = cleaned_hull.faces.reshape(-1, 4)[:, 1:].astype(np.int32)\n",
    "V = cleaned_hull.points.astype(float)\n",
    "\n",
    "# Extract boundary edges as vertex index pairs\n",
    "boundary_edges = igl.boundary_facets(F)  # shape (n_edges, 2)\n",
    "\n",
    "# Get the corresponding 3D points for each edge endpoint\n",
    "lines = []\n",
    "for i, j in boundary_edges:\n",
    "    lines.append([2, i, j])  # '2' means line with 2 points\n",
    "\n",
    "lines = np.array(lines).flatten()\n",
    "\n",
    "# Create the PyVista object\n",
    "edge_mesh = pv.PolyData()\n",
    "edge_mesh.points = V\n",
    "edge_mesh.lines = lines\n",
    "\n",
    "import networkx as nx\n",
    "\n",
    "# --- Extract boundary edges using igl ---\n",
    "F = cleaned_hull.faces.reshape(-1, 4)[:, 1:].astype(np.int32)\n",
    "V = cleaned_hull.points.astype(float)\n",
    "boundary_edges = igl.boundary_facets(F)\n",
    "\n",
    "# --- Build graph from boundary edges ---\n",
    "G = nx.Graph()\n",
    "G.add_edges_from(boundary_edges)\n",
    "\n",
    "# --- Extract connected loops ---\n",
    "loops = list(nx.connected_components(G))\n",
    "loops_sorted = sorted(loops, key=len, reverse=True)\n",
    "\n",
    "# --- Order loop points using DFS ---\n",
    "ordered_loops = []\n",
    "for loop in loops_sorted:\n",
    "    subgraph = G.subgraph(loop)\n",
    "    path = list(nx.dfs_edges(subgraph))\n",
    "    if path:\n",
    "        ordered_loop = [path[0][0]] + [v for _, v in path]\n",
    "        ordered_loops.append(ordered_loop)\n",
    "\n",
    "# --- Visualize largest boundary loop ---\n",
    "p_ = pv.Plotter()  # Initialize the Plotter object\n",
    "if ordered_loops:\n",
    "    loop_indices = ordered_loops[0]\n",
    "    loop_pts = V[loop_indices]\n",
    "    p.add_mesh(pv.PolyData(loop_pts), color='green', point_size=5, render_points_as_spheres=True, label='Ordered Loop')\n",
    "\n",
    "\n",
    "# # Original scalar pressure\n",
    "if \"p\" in cleaned_hull.point_data:\n",
    "    p_scalar = cleaned_hull.point_data[\"p\"].astype(float)\n",
    "else:\n",
    "    print(\"Warning: 'p' data not found in cleaned_hull. Using default values.\")\n",
    "    p_scalar = np.zeros(cleaned_hull.n_points)  # Default to zeros\n",
    "\n",
    "if \"tauw\" in cleaned_hull.point_data:\n",
    "    tau_wall = cleaned_hull.point_data[\"tauw\"].astype(float)  # shape (N, 3)\n",
    "else:\n",
    "    print(\"Warning: 'tauw' data not found in cleaned_hull. Using default values.\")\n",
    "    tau_wall = np.zeros((cleaned_hull.n_points, 3))  # Default to zeros\n",
    "\n",
    "# Plot original hull with boundary overlay\n",
    "p_.add_mesh(pv.wrap(cleaned_hull), color='lightgray', opacity=0.9, show_edges=True)\n",
    "p_.add_mesh(edge_mesh, color='red', line_width=2, label='Boundary Edges')\n",
    "p_.add_mesh(loop_pts, color='green', line_width=2, label='Boundary Edges')\n",
    "p_.add_legend()\n",
    "p_.show()\n",
    "\n",
    "# # --- 5. Visualize ---\n",
    "# plotter__ = pv.Plotter()\n",
    "# # plotter__.add_mesh(tri_hull, show_edges=True, opacity=0.4)\n",
    "# # plotter__.add_mesh(boundary_lines, color='red', line_width=3, label=\"Boundary Edges\")\n",
    "# plotter__.add_mesh(cleaned_hull, scalars=p_scalar, show_edges=False)\n",
    "# plotter__.add_text(\"Cleaned Hull + Boundary\", font_size=12)\n",
    "# # plotter__.add_legend()\n",
    "# plotter__.show()\n",
    "\n",
    "\n",
    "# # Extract the indices of the boundary edges\n",
    "# boundary_edge_indices = boundary_facets.flatten()\n",
    "\n",
    "# # Extract the x and y coordinates of the boundary lines\n",
    "# boundary_x = V[boundary_edge_indices].reshape(-1, 2, 3)[:, :, 0]\n",
    "# boundary_y = V[boundary_edge_indices].reshape(-1, 2, 3)[:, :, 1]\n",
    "\n",
    "# # Plot the boundary lines\n",
    "# plt.figure(figsize=(10, 6))\n",
    "# for x, y in zip(boundary_x, boundary_y):\n",
    "#     plt.plot(x, y, color='red', linewidth=0.5)\n",
    "\n",
    "# plt.title(\"Boundary Lines (2D View)\")\n",
    "# plt.xlabel(\"X\")\n",
    "# plt.ylabel(\"Y\")\n",
    "# plt.axis('equal')\n",
    "# plt.grid(True)\n",
    "# plt.show()"
   ]
  },
  {
   "cell_type": "code",
   "execution_count": null,
   "metadata": {
    "vscode": {
     "languageId": "ruby"
    }
   },
   "outputs": [
    {
     "name": "stdout",
     "output_type": "stream",
     "text": [
      "Open ends in boundary graph: 0\n"
     ]
    },
    {
     "ename": "ValueError",
     "evalue": "Empty meshes cannot be plotted. Input mesh has zero points. To allow plotting empty meshes, set `pv.global_theme.allow_empty_mesh = True`",
     "output_type": "error",
     "traceback": [
      "\u001b[1;31m---------------------------------------------------------------------------\u001b[0m",
      "\u001b[1;31mValueError\u001b[0m                                Traceback (most recent call last)",
      "Cell \u001b[1;32mIn[23], line 9\u001b[0m\n\u001b[0;32m      7\u001b[0m p \u001b[38;5;241m=\u001b[39m pv\u001b[38;5;241m.\u001b[39mPlotter()\n\u001b[0;32m      8\u001b[0m p\u001b[38;5;241m.\u001b[39madd_mesh(cleaned_hull, opacity\u001b[38;5;241m=\u001b[39m\u001b[38;5;241m1\u001b[39m)\n\u001b[1;32m----> 9\u001b[0m p\u001b[38;5;241m.\u001b[39madd_points(V[open_ends], color\u001b[38;5;241m=\u001b[39m\u001b[38;5;124m'\u001b[39m\u001b[38;5;124mblue\u001b[39m\u001b[38;5;124m'\u001b[39m, point_size\u001b[38;5;241m=\u001b[39m\u001b[38;5;241m10\u001b[39m)\n\u001b[0;32m     10\u001b[0m \u001b[38;5;66;03m# p.add_legend()\u001b[39;00m\n\u001b[0;32m     11\u001b[0m p\u001b[38;5;241m.\u001b[39mshow()\n",
      "File \u001b[1;32mc:\\Users\\zack\\AppData\\Local\\anaconda3\\Lib\\site-packages\\pyvista\\plotting\\plotter.py:5820\u001b[0m, in \u001b[0;36mBasePlotter.add_points\u001b[1;34m(self, points, style, **kwargs)\u001b[0m\n\u001b[0;32m   5815\u001b[0m \u001b[38;5;28;01mif\u001b[39;00m style \u001b[38;5;129;01mnot\u001b[39;00m \u001b[38;5;129;01min\u001b[39;00m [\u001b[38;5;124m'\u001b[39m\u001b[38;5;124mpoints\u001b[39m\u001b[38;5;124m'\u001b[39m, \u001b[38;5;124m'\u001b[39m\u001b[38;5;124mpoints_gaussian\u001b[39m\u001b[38;5;124m'\u001b[39m]:\n\u001b[0;32m   5816\u001b[0m     \u001b[38;5;28;01mraise\u001b[39;00m \u001b[38;5;167;01mValueError\u001b[39;00m(\n\u001b[0;32m   5817\u001b[0m         \u001b[38;5;124mf\u001b[39m\u001b[38;5;124m'\u001b[39m\u001b[38;5;124mInvalid style \u001b[39m\u001b[38;5;132;01m{\u001b[39;00mstyle\u001b[38;5;132;01m}\u001b[39;00m\u001b[38;5;124m for add_points. Should be either \u001b[39m\u001b[38;5;124m\"\u001b[39m\u001b[38;5;124mpoints\u001b[39m\u001b[38;5;124m\"\u001b[39m\u001b[38;5;124m or \u001b[39m\u001b[38;5;124m'\u001b[39m\n\u001b[0;32m   5818\u001b[0m         \u001b[38;5;124m'\u001b[39m\u001b[38;5;124m\"\u001b[39m\u001b[38;5;124mpoints_gaussian\u001b[39m\u001b[38;5;124m\"\u001b[39m\u001b[38;5;124m.\u001b[39m\u001b[38;5;124m'\u001b[39m,\n\u001b[0;32m   5819\u001b[0m     )\n\u001b[1;32m-> 5820\u001b[0m \u001b[38;5;28;01mreturn\u001b[39;00m \u001b[38;5;28mself\u001b[39m\u001b[38;5;241m.\u001b[39madd_mesh(points, style\u001b[38;5;241m=\u001b[39mstyle, \u001b[38;5;241m*\u001b[39m\u001b[38;5;241m*\u001b[39mkwargs)\n",
      "File \u001b[1;32mc:\\Users\\zack\\AppData\\Local\\anaconda3\\Lib\\site-packages\\pyvista\\plotting\\plotter.py:3661\u001b[0m, in \u001b[0;36mBasePlotter.add_mesh\u001b[1;34m(self, mesh, color, style, scalars, clim, show_edges, edge_color, point_size, line_width, opacity, flip_scalars, lighting, n_colors, interpolate_before_map, cmap, label, reset_camera, scalar_bar_args, show_scalar_bar, multi_colors, name, texture, render_points_as_spheres, render_lines_as_tubes, smooth_shading, split_sharp_edges, ambient, diffuse, specular, specular_power, nan_color, nan_opacity, culling, rgb, categories, silhouette, use_transparency, below_color, above_color, annotations, pickable, preference, log_scale, pbr, metallic, roughness, render, user_matrix, component, emissive, copy_mesh, backface_params, show_vertices, edge_opacity, **kwargs)\u001b[0m\n\u001b[0;32m   3657\u001b[0m         \u001b[38;5;28;01mraise\u001b[39;00m \u001b[38;5;167;01mValueError\u001b[39;00m(\u001b[38;5;124m'\u001b[39m\u001b[38;5;124mRGB array must be n_points/n_cells by 3/4 in shape.\u001b[39m\u001b[38;5;124m'\u001b[39m)\n\u001b[0;32m   3659\u001b[0m \u001b[38;5;28;01mif\u001b[39;00m algo \u001b[38;5;129;01mis\u001b[39;00m \u001b[38;5;28;01mNone\u001b[39;00m \u001b[38;5;129;01mand\u001b[39;00m \u001b[38;5;129;01mnot\u001b[39;00m \u001b[38;5;28mself\u001b[39m\u001b[38;5;241m.\u001b[39mtheme\u001b[38;5;241m.\u001b[39mallow_empty_mesh \u001b[38;5;129;01mand\u001b[39;00m \u001b[38;5;129;01mnot\u001b[39;00m mesh\u001b[38;5;241m.\u001b[39mn_points:\n\u001b[0;32m   3660\u001b[0m     \u001b[38;5;66;03m# Algorithms may initialize with an empty mesh\u001b[39;00m\n\u001b[1;32m-> 3661\u001b[0m     \u001b[38;5;28;01mraise\u001b[39;00m \u001b[38;5;167;01mValueError\u001b[39;00m(\n\u001b[0;32m   3662\u001b[0m         \u001b[38;5;124m'\u001b[39m\u001b[38;5;124mEmpty meshes cannot be plotted. Input mesh has zero points. To allow plotting empty meshes, set `pv.global_theme.allow_empty_mesh = True`\u001b[39m\u001b[38;5;124m'\u001b[39m,\n\u001b[0;32m   3663\u001b[0m     )\n\u001b[0;32m   3665\u001b[0m \u001b[38;5;66;03m# set main values\u001b[39;00m\n\u001b[0;32m   3666\u001b[0m \u001b[38;5;28mself\u001b[39m\u001b[38;5;241m.\u001b[39mmesh \u001b[38;5;241m=\u001b[39m mesh\n",
      "\u001b[1;31mValueError\u001b[0m: Empty meshes cannot be plotted. Input mesh has zero points. To allow plotting empty meshes, set `pv.global_theme.allow_empty_mesh = True`"
     ]
    }
   ],
   "source": [
    "# Degrees of boundary vertices\n",
    "degrees = dict(G.degree())\n",
    "open_ends = [k for k, v in degrees.items() if v == 1]\n",
    "\n",
    "print(f\"Open ends in boundary graph: {len(open_ends)}\")\n",
    "\n",
    "p = pv.Plotter()\n",
    "p.add_mesh(cleaned_hull, opacity=1)\n",
    "p.add_points(V[open_ends], color='blue', point_size=10)\n",
    "# p.add_legend()\n",
    "p.show()\n"
   ]
  },
  {
   "cell_type": "code",
   "execution_count": null,
   "metadata": {
    "vscode": {
     "languageId": "ruby"
    }
   },
   "outputs": [
    {
     "name": "stdout",
     "output_type": "stream",
     "text": [
      "Boundary loop length: 4291\n"
     ]
    }
   ],
   "source": [
    "b = igl.boundary_loop(F)\n",
    "print(f\"Boundary loop length: {len(b)}\")\n"
   ]
  },
  {
   "cell_type": "code",
   "execution_count": null,
   "metadata": {
    "vscode": {
     "languageId": "ruby"
    }
   },
   "outputs": [
    {
     "data": {
      "application/vnd.jupyter.widget-view+json": {
       "model_id": "5f3c70ab31a84c0483c9ba1c2d0c617e",
       "version_major": 2,
       "version_minor": 0
      },
      "text/plain": [
       "Widget(value='<iframe src=\"http://localhost:51790/index.html?ui=P_0x26f12c0a720_17&reconnect=auto\" class=\"pyvi…"
      ]
     },
     "metadata": {},
     "output_type": "display_data"
    }
   ],
   "source": [
    "# UV_src = harmonic_uv(V, F, USE_SQUARE)\n",
    "# tris_uv = UV_src[F]\n",
    "# cent    = tris_uv.mean(axis=1)\n",
    "# tree    = cKDTree(cent)\n",
    "# uv_min  = tris_uv.min(axis=1)\n",
    "# uv_max  = tris_uv.max(axis=1)\n",
    "# Compute the harmonic UV map for the cleaned hull\n",
    "# V_cleaned = cleaned_hull.points.astype(float)\n",
    "# F_cleaned = cleaned_hull.cells.reshape(-1, 4)[:, 1:].astype(np.int32)\n",
    "UV_cleaned = harmonic_uv(V, F, USE_SQUARE)\n",
    "\n",
    "# Visualize the harmonic UV map\n",
    "uv_pts_cleaned = np.column_stack((UV_cleaned, np.zeros(len(UV_cleaned))))\n",
    "faces_cleaned = np.hstack((np.full((F.shape[0], 1), 3), F)).astype(int)\n",
    "mesh_uv_cleaned = pv.PolyData(uv_pts_cleaned, faces_cleaned)\n",
    "\n",
    "plotter = pv.Plotter()\n",
    "plotter.add_mesh(mesh_uv_cleaned, scalars=p_scalar, cmap=\"coolwarm\", show_edges=True)\n",
    "# plotter.add_mesh(mesh_uv_cleaned, color='red', show_edges=True)\n",
    "plotter.add_text(\"Harmonic UV Map of Cleaned Hull\", font_size=12)\n",
    "plotter.show()\n"
   ]
  },
  {
   "cell_type": "code",
   "execution_count": null,
   "metadata": {
    "vscode": {
     "languageId": "ruby"
    }
   },
   "outputs": [
    {
     "name": "stdout",
     "output_type": "stream",
     "text": [
      "Loading cases …\n"
     ]
    },
    {
     "name": "stderr",
     "output_type": "stream",
     "text": [
      "ERROR:root:Input for connection index 0 on input port index 0 for algorithm vtkFeatureEdges (0000018BF46743E0) is of type vtkUnstructuredGrid, but a vtkPolyData is required.\n"
     ]
    },
    {
     "name": "stdout",
     "output_type": "stream",
     "text": [
      "Non-manifold edge count: 0\n"
     ]
    }
   ],
   "source": [
    "print(\"Loading cases …\")\n",
    "case_paths = [(f\"RUN{i:03d}\", os.path.join(BASE_DIR, f\"RUN{i:03d}\", \"case.foam\"))\n",
    "              for i in RUN_RANGE if os.path.exists(os.path.join(BASE_DIR, f\"RUN{i:03d}\", \"case.foam\"))]\n",
    "if not case_paths:\n",
    "    sys.exit(\"No .foam files found – check BASE_DIR.\")\n",
    "\n",
    "# template build\n",
    "run0, foam0 = case_paths[0]\n",
    "hull0 = extract_hull_mesh(foam0)\n",
    "hull0 = remove_hull_deck(hull0)\n",
    "V0 = hull0.points.astype(float)\n",
    "F0 = hull0.cells.reshape(-1,4)[:,1:].astype(np.int32)\n",
    "if UV_grid:\n",
    "    # Instead of UV0 = harmonic_uv(V0, F0)\n",
    "    \n",
    "    # Prepare UV sampling grid\n",
    "    nu = nv = 100\n",
    "    u_lin = np.linspace(0,1,nu)\n",
    "    v_lin = np.linspace(0,1,nv)\n",
    "    UU, VV = np.meshgrid(u_lin, v_lin)\n",
    "    UV_query = np.column_stack((UU.ravel(), VV.ravel()))\n",
    "    M = UV_query.shape[0]\n",
    "\n",
    "    print(\"UV sampling grid:\")\n",
    "    print(f\"  {nu} x {nv} = {M} points\")\n",
    "\n",
    "    u_lin = np.linspace(0, 1, nu)\n",
    "    v_lin = np.linspace(0, 1, nv)\n",
    "    UU, VV = np.meshgrid(u_lin, v_lin)\n",
    "    UV0 = np.column_stack((UU.ravel(), VV.ravel()))\n",
    "else:\n",
    "    UV0 = harmonic_uv(V0,F0,USE_SQUARE)\n",
    "    \n",
    "faces_pv = np.hstack((np.full((F0.shape[0],1),3),F0)).astype(int)"
   ]
  },
  {
   "cell_type": "code",
   "execution_count": null,
   "metadata": {
    "vscode": {
     "languageId": "ruby"
    }
   },
   "outputs": [
    {
     "data": {
      "application/vnd.jupyter.widget-view+json": {
       "model_id": "1d1b981049e643a599be9ebc9d002419",
       "version_major": 2,
       "version_minor": 0
      },
      "text/plain": [
       "Widget(value='<iframe src=\"http://localhost:49258/index.html?ui=P_0x18a62e11220_18&reconnect=auto\" class=\"pyvi…"
      ]
     },
     "metadata": {},
     "output_type": "display_data"
    }
   ],
   "source": [
    "\n",
    "\n",
    "# Visualize the harmonic UV map\n",
    "uv_pts_cleaned = np.column_stack((UV0, np.zeros(len(UV0))))\n",
    "faces_cleaned = np.hstack((np.full((F0.shape[0], 1), 3), F0)).astype(int)\n",
    "mesh_uv_cleaned = pv.PolyData(uv_pts_cleaned, faces_cleaned)\n",
    "\n",
    "plotter_i= pv.Plotter()\n",
    "plotter_i.add_mesh(mesh_uv_cleaned, cmap=\"coolwarm\", show_edges=True)\n",
    "plotter_i.add_text(\"Harmonic UV Map of Cleaned Hull\", font_size=12)\n",
    "plotter_i.show()"
   ]
  }
 ],
 "metadata": {
  "kernelspec": {
   "display_name": "base",
   "language": "python",
   "name": "python3"
  },
  "language_info": {
   "codemirror_mode": {
    "name": "ipython",
    "version": 3
   },
   "file_extension": ".py",
   "mimetype": "text/x-python",
   "name": "python",
   "nbconvert_exporter": "python",
   "pygments_lexer": "ipython3",
   "version": "3.12.3"
  }
 },
 "nbformat": 4,
 "nbformat_minor": 2
}
